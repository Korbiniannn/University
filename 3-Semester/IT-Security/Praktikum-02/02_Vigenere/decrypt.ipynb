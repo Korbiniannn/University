{
 "cells": [
  {
   "cell_type": "code",
   "execution_count": 25,
   "metadata": {},
   "outputs": [],
   "source": [
    "def load(filename):\n",
    "    with open(filename, \"r\", encoding='utf-8') as infile:\n",
    "        content = infile.read()\n",
    "\n",
    "    content = ''.join([char for char in content if char.isalpha()or char in \" \"])\n",
    "\n",
    "    return content"
   ]
  },
  {
   "cell_type": "code",
   "execution_count": 13,
   "metadata": {},
   "outputs": [
    {
     "data": {
      "text/plain": [
       "'IEL HRS EDXR IIPIANIAWGFV KMPI HGGU FMFQNM AWKOFKWFRO YFH AVR KSYMIF WRJRW KRJWLIE BYUL ABGZ QRJRWQ JJPDIA MITIA TIARR XSJX HOH OIELI EIELX AGU VRV HRO FJEHDL MRQ NML KRJWLIFTXSIELI LY VDL OYAEIJ EHDLOEYMI OEYMI EEADLW WGSIUOR EEKW MVQ RARDOW ANTWWV SMMWWFF YFH ZJX JIVDLWQ IPPDIZ TGZANMPW DH EIE FNEI KMPI IJKVFWKIHOH FYA LSEQ QV EDXRS FWWRO RAQZ EMW WPIPWGUUIF PHNTWRUVIDPRO FAWG TGZSA MEFKR LRWGUU KWARTIF RHO IJJHFPDI ZFMFIA XMDPRO EMJ MXIA FRJRWR FUIZI BCIF WRJ IAR XPTX IVMI FYA VRV KRII EMG EIE ANTWWVGPTXANMPW ANMPW QNOGZI FUVWGXF HSWF AYE DJFGCI JBWKIE GPAIFTI MRQ NML VRJGZIZ WSDPRN WULJBPDI MV HWQ OBHW WVDL WVTJIKWRTIZX RS PSIHGX RYZ VJWV AJIVIE XEZVYJGZ MFU WULBO EF HRN JDYFTI MRQ NML FYJXRIFTGZRRMPW AVFHWV VTX WV UJIJ QVU VSWPIIE KHTWW WPISF DHN DOIVUIF QNMI OMR EEK FRDOWR FDLOMYMX OMR TMUL WFHW WPIEDI IPPD QVU ASWFFV XYRMPLWGFLW WGFLW HROR OME IETIA EIARRS KSFRO ZGPYHIEIFTIF  EPI MUL ZFVC IF XIZI JFLW LNC MUL QPGZ HNT AGVG WIJKRTWWRNDL VEF XSJX JPVSYS BQ WRQF IJ HNT AAVQ XEK IE HIOIFFR SGU FV DERVJL YAE FJMAHX TIUFRVI JBIJWG EY VSPI HWV NMXW FRTIF MZNIJ RRVI YYRTWW FEJRYX RS WULAFPD LRSIAR NDL MRQ IYFHRSX XPHFWKI FUYWVMFR SYS NMUL RJRFIVO RAGUU PSIAHIJ ONOR AGUT PSWFFR OMYM MZR SBWKIA EEK MFU XMIPLI SGU OYF AVSH EME JQEIE CEWRTFV OIYDLW QVFRW ARMGZI OMMUORP HM EHTKWFHSX VIE ISWPYF WGPY EEK KNODW LNVW WVFBYXIA TIZ MPI YWFRS NWHR TGZARMPW HBDL KGUPR OEFTIJWGSSWQR MEMJRO IAR IFVJYPIXWV OFWWR QFV FMPIX ZSRSIF AVMP KXBDO VIE EY YIJFWWR FUIZ HBDL OMREIJ WGJPDAVMPKXF BQ WRQF KSV AJGZX YBWKIA XMDP QJGZ JNTWWR JJPD HVDL ZEYUIF YAE HSW NMXW LBMD TIUFRVI ZJX VIZ TGZEEGIF FRJPW WCBPLIATIZX QB OGQZU IJ WPIPWTCFRV AVFHWV JJI AGU NMUL AVV SYS EMUL JFVXI TMIAGU P OGFBMH DMRHWL HH OMWHRS OJEPIIFH GSMXJG EMW KYBXLI FDLSIEGI OEUSPAGU CVSZ TFXJSSGIF WRIX WV VTX WRGAAWM HOH FYA LEFR VDL ZSSGIF YAE MUL NUQW JEFMOIUF AWLR CIAHR UIAPR TXWLA JR WMYF WULBO EDW XOIULGF ZGIYMMY JRSXAK VO HAI UPIZI UFPXX ZJV SGU JLJ LBIIF QNFGZXRVRV WVF PSYSFR FEFT YFH ABIKWRS AAVQT ME WNBP MRQ BYX HRO WLYSFR OIYDL WRGTILDYJGZIF HIOERTWWV UFVJ YAE QWMFUIJ LBFV EMPI VMJRO  EUL QB OGQZU HWV ZFMKXRS LWVE EMW RBU MKX TSSKW QJI AGU SMWJ QJI YIVTXWV JFVV MPI RMR AJGZX YPWAR QJI WGXF FWWRO FWWRO WWMQT KWARTIF HROR SPF HIAWGFV JYSU IMGU OYJ DH TIARRN DOIPLI WVFU LWVIPV VIE BPLI ZFMKXRS'"
      ]
     },
     "execution_count": 13,
     "metadata": {},
     "output_type": "execute_result"
    }
   ],
   "source": [
    "load('interessantesDokument.txt.enc')"
   ]
  },
  {
   "cell_type": "code",
   "execution_count": 26,
   "metadata": {},
   "outputs": [],
   "source": [
    "def count_freq_groups(filename):\n",
    "    text = load(filename)\n",
    "\n",
    "    groups = [{} for _ in range(5)]\n",
    "    pass_len = 0\n",
    "\n",
    "    for char in text:\n",
    "        if char == \" \":\n",
    "            continue\n",
    "        group = groups[pass_len]\n",
    "        if char in group:\n",
    "            group[char] += 1\n",
    "        else:\n",
    "            group[char] = 1\n",
    "\n",
    "        pass_len = (pass_len + 1) % 5\n",
    "    \n",
    "    return groups\n"
   ]
  },
  {
   "cell_type": "code",
   "execution_count": 42,
   "metadata": {},
   "outputs": [],
   "source": [
    "def password_dec(i , n):\n",
    "    groups = count_freq_groups('interessantesDokument.txt.enc')\n",
    "    group = groups[i]\n",
    "    group = dict(sorted(group.items(), key=lambda item: item[1], reverse=True))\n",
    "\n",
    "    alphabet = \"ABCDEFGHIJKLMNOPQRSTUVWXYZ\"\n",
    "    new_group = {}\n",
    "\n",
    "    for key, val in group.items():\n",
    "        new_key = alphabet[(alphabet.index(key) - n + 26) % 26]\n",
    "        new_group[new_key] = val\n",
    "    \n",
    "    return new_group\n"
   ]
  },
  {
   "cell_type": "code",
   "execution_count": 77,
   "metadata": {},
   "outputs": [],
   "source": [
    "def text_decrypt(filename, password):\n",
    "    with open(filename, 'r') as file:\n",
    "        text = file.read()\n",
    "\n",
    "    alphabet = \"ABCDEFGHIJKLMNOPQRSTUVWXYZ\"\n",
    "    i = 0\n",
    "\n",
    "    decrypted_text = \"\"\n",
    "\n",
    "    for char in text:\n",
    "        if char.isalpha():\n",
    "            new_char = alphabet[(alphabet.index(char) - alphabet.index(password[i]) + 26) % 26]\n",
    "            decrypted_text += new_char\n",
    "            i = (i + 1) % len(password)\n",
    "        else:\n",
    "            decrypted_text += char\n",
    "    \n",
    "\n",
    "    with open('decrypted_text.txt', 'w') as outfile:\n",
    "        outfile.write(decrypted_text)\n",
    "\n",
    "    return password"
   ]
  },
  {
   "cell_type": "code",
   "execution_count": 80,
   "metadata": {},
   "outputs": [
    {
     "data": {
      "text/plain": [
       "'BESEN'"
      ]
     },
     "execution_count": 80,
     "metadata": {},
     "output_type": "execute_result"
    }
   ],
   "source": [
    "text_decrypt('interessantesDokument.txt.enc', \"BESEN\")"
   ]
  },
  {
   "cell_type": "code",
   "execution_count": null,
   "metadata": {},
   "outputs": [],
   "source": [
    "german_freq = \"ENISRATDHULCGMOBWFKZPVJYXQ\"\n",
    "password = \"BESEN\"\n",
    "\n",
    "reminder2 = 4, 15, 18"
   ]
  },
  {
   "cell_type": "code",
   "execution_count": 79,
   "metadata": {},
   "outputs": [
    {
     "name": "stdout",
     "output_type": "stream",
     "text": [
      "run = 0 \n",
      " {'I': 81, 'M': 29, 'P': 29, 'R': 27, 'W': 26, 'X': 23, 'L': 22, 'V': 20, 'E': 19, 'H': 17, 'G': 17, 'Y': 14, 'S': 8, 'A': 7, 'O': 7, 'K': 6, 'F': 6, 'Q': 6, 'D': 4, 'T': 3, 'J': 3, 'Z': 2, 'N': 1}\n",
      "run = 1 \n",
      " {'H': 81, 'L': 29, 'O': 29, 'Q': 27, 'V': 26, 'W': 23, 'K': 22, 'U': 20, 'D': 19, 'G': 17, 'F': 17, 'X': 14, 'R': 8, 'Z': 7, 'N': 7, 'J': 6, 'E': 6, 'P': 6, 'C': 4, 'S': 3, 'I': 3, 'Y': 2, 'M': 1}\n",
      "run = 2 \n",
      " {'G': 81, 'K': 29, 'N': 29, 'P': 27, 'U': 26, 'V': 23, 'J': 22, 'T': 20, 'C': 19, 'F': 17, 'E': 17, 'W': 14, 'Q': 8, 'Y': 7, 'M': 7, 'I': 6, 'D': 6, 'O': 6, 'B': 4, 'R': 3, 'H': 3, 'X': 2, 'L': 1}\n",
      "run = 3 \n",
      " {'F': 81, 'J': 29, 'M': 29, 'O': 27, 'T': 26, 'U': 23, 'I': 22, 'S': 20, 'B': 19, 'E': 17, 'D': 17, 'V': 14, 'P': 8, 'X': 7, 'L': 7, 'H': 6, 'C': 6, 'N': 6, 'A': 4, 'Q': 3, 'G': 3, 'W': 2, 'K': 1}\n",
      "run = 4 \n",
      " {'E': 81, 'I': 29, 'L': 29, 'N': 27, 'S': 26, 'T': 23, 'H': 22, 'R': 20, 'A': 19, 'D': 17, 'C': 17, 'U': 14, 'O': 8, 'W': 7, 'K': 7, 'G': 6, 'B': 6, 'M': 6, 'Z': 4, 'P': 3, 'F': 3, 'V': 2, 'J': 1}\n",
      "run = 5 \n",
      " {'D': 81, 'H': 29, 'K': 29, 'M': 27, 'R': 26, 'S': 23, 'G': 22, 'Q': 20, 'Z': 19, 'C': 17, 'B': 17, 'T': 14, 'N': 8, 'V': 7, 'J': 7, 'F': 6, 'A': 6, 'L': 6, 'Y': 4, 'O': 3, 'E': 3, 'U': 2, 'I': 1}\n",
      "run = 6 \n",
      " {'C': 81, 'G': 29, 'J': 29, 'L': 27, 'Q': 26, 'R': 23, 'F': 22, 'P': 20, 'Y': 19, 'B': 17, 'A': 17, 'S': 14, 'M': 8, 'U': 7, 'I': 7, 'E': 6, 'Z': 6, 'K': 6, 'X': 4, 'N': 3, 'D': 3, 'T': 2, 'H': 1}\n",
      "run = 7 \n",
      " {'B': 81, 'F': 29, 'I': 29, 'K': 27, 'P': 26, 'Q': 23, 'E': 22, 'O': 20, 'X': 19, 'A': 17, 'Z': 17, 'R': 14, 'L': 8, 'T': 7, 'H': 7, 'D': 6, 'Y': 6, 'J': 6, 'W': 4, 'M': 3, 'C': 3, 'S': 2, 'G': 1}\n",
      "run = 8 \n",
      " {'A': 81, 'E': 29, 'H': 29, 'J': 27, 'O': 26, 'P': 23, 'D': 22, 'N': 20, 'W': 19, 'Z': 17, 'Y': 17, 'Q': 14, 'K': 8, 'S': 7, 'G': 7, 'C': 6, 'X': 6, 'I': 6, 'V': 4, 'L': 3, 'B': 3, 'R': 2, 'F': 1}\n",
      "run = 9 \n",
      " {'Z': 81, 'D': 29, 'G': 29, 'I': 27, 'N': 26, 'O': 23, 'C': 22, 'M': 20, 'V': 19, 'Y': 17, 'X': 17, 'P': 14, 'J': 8, 'R': 7, 'F': 7, 'B': 6, 'W': 6, 'H': 6, 'U': 4, 'K': 3, 'A': 3, 'Q': 2, 'E': 1}\n",
      "run = 10 \n",
      " {'Y': 81, 'C': 29, 'F': 29, 'H': 27, 'M': 26, 'N': 23, 'B': 22, 'L': 20, 'U': 19, 'X': 17, 'W': 17, 'O': 14, 'I': 8, 'Q': 7, 'E': 7, 'A': 6, 'V': 6, 'G': 6, 'T': 4, 'J': 3, 'Z': 3, 'P': 2, 'D': 1}\n",
      "run = 11 \n",
      " {'X': 81, 'B': 29, 'E': 29, 'G': 27, 'L': 26, 'M': 23, 'A': 22, 'K': 20, 'T': 19, 'W': 17, 'V': 17, 'N': 14, 'H': 8, 'P': 7, 'D': 7, 'Z': 6, 'U': 6, 'F': 6, 'S': 4, 'I': 3, 'Y': 3, 'O': 2, 'C': 1}\n",
      "run = 12 \n",
      " {'W': 81, 'A': 29, 'D': 29, 'F': 27, 'K': 26, 'L': 23, 'Z': 22, 'J': 20, 'S': 19, 'V': 17, 'U': 17, 'M': 14, 'G': 8, 'O': 7, 'C': 7, 'Y': 6, 'T': 6, 'E': 6, 'R': 4, 'H': 3, 'X': 3, 'N': 2, 'B': 1}\n",
      "run = 13 \n",
      " {'V': 81, 'Z': 29, 'C': 29, 'E': 27, 'J': 26, 'K': 23, 'Y': 22, 'I': 20, 'R': 19, 'U': 17, 'T': 17, 'L': 14, 'F': 8, 'N': 7, 'B': 7, 'X': 6, 'S': 6, 'D': 6, 'Q': 4, 'G': 3, 'W': 3, 'M': 2, 'A': 1}\n",
      "run = 14 \n",
      " {'U': 81, 'Y': 29, 'B': 29, 'D': 27, 'I': 26, 'J': 23, 'X': 22, 'H': 20, 'Q': 19, 'T': 17, 'S': 17, 'K': 14, 'E': 8, 'M': 7, 'A': 7, 'W': 6, 'R': 6, 'C': 6, 'P': 4, 'F': 3, 'V': 3, 'L': 2, 'Z': 1}\n",
      "run = 15 \n",
      " {'T': 81, 'X': 29, 'A': 29, 'C': 27, 'H': 26, 'I': 23, 'W': 22, 'G': 20, 'P': 19, 'S': 17, 'R': 17, 'J': 14, 'D': 8, 'L': 7, 'Z': 7, 'V': 6, 'Q': 6, 'B': 6, 'O': 4, 'E': 3, 'U': 3, 'K': 2, 'Y': 1}\n",
      "run = 16 \n",
      " {'S': 81, 'W': 29, 'Z': 29, 'B': 27, 'G': 26, 'H': 23, 'V': 22, 'F': 20, 'O': 19, 'R': 17, 'Q': 17, 'I': 14, 'C': 8, 'K': 7, 'Y': 7, 'U': 6, 'P': 6, 'A': 6, 'N': 4, 'D': 3, 'T': 3, 'J': 2, 'X': 1}\n",
      "run = 17 \n",
      " {'R': 81, 'V': 29, 'Y': 29, 'A': 27, 'F': 26, 'G': 23, 'U': 22, 'E': 20, 'N': 19, 'Q': 17, 'P': 17, 'H': 14, 'B': 8, 'J': 7, 'X': 7, 'T': 6, 'O': 6, 'Z': 6, 'M': 4, 'C': 3, 'S': 3, 'I': 2, 'W': 1}\n",
      "run = 18 \n",
      " {'Q': 81, 'U': 29, 'X': 29, 'Z': 27, 'E': 26, 'F': 23, 'T': 22, 'D': 20, 'M': 19, 'P': 17, 'O': 17, 'G': 14, 'A': 8, 'I': 7, 'W': 7, 'S': 6, 'N': 6, 'Y': 6, 'L': 4, 'B': 3, 'R': 3, 'H': 2, 'V': 1}\n",
      "run = 19 \n",
      " {'P': 81, 'T': 29, 'W': 29, 'Y': 27, 'D': 26, 'E': 23, 'S': 22, 'C': 20, 'L': 19, 'O': 17, 'N': 17, 'F': 14, 'Z': 8, 'H': 7, 'V': 7, 'R': 6, 'M': 6, 'X': 6, 'K': 4, 'A': 3, 'Q': 3, 'G': 2, 'U': 1}\n",
      "run = 20 \n",
      " {'O': 81, 'S': 29, 'V': 29, 'X': 27, 'C': 26, 'D': 23, 'R': 22, 'B': 20, 'K': 19, 'N': 17, 'M': 17, 'E': 14, 'Y': 8, 'G': 7, 'U': 7, 'Q': 6, 'L': 6, 'W': 6, 'J': 4, 'Z': 3, 'P': 3, 'F': 2, 'T': 1}\n",
      "run = 21 \n",
      " {'N': 81, 'R': 29, 'U': 29, 'W': 27, 'B': 26, 'C': 23, 'Q': 22, 'A': 20, 'J': 19, 'M': 17, 'L': 17, 'D': 14, 'X': 8, 'F': 7, 'T': 7, 'P': 6, 'K': 6, 'V': 6, 'I': 4, 'Y': 3, 'O': 3, 'E': 2, 'S': 1}\n",
      "run = 22 \n",
      " {'M': 81, 'Q': 29, 'T': 29, 'V': 27, 'A': 26, 'B': 23, 'P': 22, 'Z': 20, 'I': 19, 'L': 17, 'K': 17, 'C': 14, 'W': 8, 'E': 7, 'S': 7, 'O': 6, 'J': 6, 'U': 6, 'H': 4, 'X': 3, 'N': 3, 'D': 2, 'R': 1}\n",
      "run = 23 \n",
      " {'L': 81, 'P': 29, 'S': 29, 'U': 27, 'Z': 26, 'A': 23, 'O': 22, 'Y': 20, 'H': 19, 'K': 17, 'J': 17, 'B': 14, 'V': 8, 'D': 7, 'R': 7, 'N': 6, 'I': 6, 'T': 6, 'G': 4, 'W': 3, 'M': 3, 'C': 2, 'Q': 1}\n",
      "run = 24 \n",
      " {'K': 81, 'O': 29, 'R': 29, 'T': 27, 'Y': 26, 'Z': 23, 'N': 22, 'X': 20, 'G': 19, 'J': 17, 'I': 17, 'A': 14, 'U': 8, 'C': 7, 'Q': 7, 'M': 6, 'H': 6, 'S': 6, 'F': 4, 'V': 3, 'L': 3, 'B': 2, 'P': 1}\n",
      "run = 25 \n",
      " {'J': 81, 'N': 29, 'Q': 29, 'S': 27, 'X': 26, 'Y': 23, 'M': 22, 'W': 20, 'F': 19, 'I': 17, 'H': 17, 'Z': 14, 'T': 8, 'B': 7, 'P': 7, 'L': 6, 'G': 6, 'R': 6, 'E': 4, 'U': 3, 'K': 3, 'A': 2, 'O': 1}\n",
      "run = 26 \n",
      " {'I': 81, 'M': 29, 'P': 29, 'R': 27, 'W': 26, 'X': 23, 'L': 22, 'V': 20, 'E': 19, 'H': 17, 'G': 17, 'Y': 14, 'S': 8, 'A': 7, 'O': 7, 'K': 6, 'F': 6, 'Q': 6, 'D': 4, 'T': 3, 'J': 3, 'Z': 2, 'N': 1}\n"
     ]
    }
   ],
   "source": [
    "i = 1\n",
    "for n in range(27):\n",
    "    print(f'run = {n} \\n {password_dec(i, n)}')"
   ]
  },
  {
   "cell_type": "code",
   "execution_count": 24,
   "metadata": {},
   "outputs": [
    {
     "data": {
      "text/plain": [
       "[{'I': 23,\n",
       "  'S': 22,\n",
       "  'N': 12,\n",
       "  'F': 53,\n",
       "  'M': 28,\n",
       "  'O': 28,\n",
       "  'V': 13,\n",
       "  'J': 32,\n",
       "  'B': 19,\n",
       "  'T': 38,\n",
       "  'X': 8,\n",
       "  'L': 8,\n",
       "  'D': 19,\n",
       "  'E': 20,\n",
       "  'P': 12,\n",
       "  'U': 21,\n",
       "  'C': 5,\n",
       "  'A': 2,\n",
       "  'G': 6,\n",
       "  'W': 2,\n",
       "  'H': 7},\n",
       " {'E': 19,\n",
       "  'I': 81,\n",
       "  'V': 20,\n",
       "  'H': 17,\n",
       "  'M': 29,\n",
       "  'A': 7,\n",
       "  'K': 6,\n",
       "  'Y': 14,\n",
       "  'R': 27,\n",
       "  'W': 26,\n",
       "  'G': 17,\n",
       "  'P': 29,\n",
       "  'S': 8,\n",
       "  'X': 23,\n",
       "  'F': 6,\n",
       "  'L': 22,\n",
       "  'Q': 6,\n",
       "  'O': 7,\n",
       "  'T': 3,\n",
       "  'J': 3,\n",
       "  'D': 4,\n",
       "  'Z': 2,\n",
       "  'N': 1},\n",
       " {'L': 15,\n",
       "  'D': 19,\n",
       "  'P': 1,\n",
       "  'A': 26,\n",
       "  'K': 22,\n",
       "  'G': 8,\n",
       "  'F': 32,\n",
       "  'W': 84,\n",
       "  'U': 16,\n",
       "  'Z': 28,\n",
       "  'T': 4,\n",
       "  'J': 25,\n",
       "  'O': 19,\n",
       "  'E': 13,\n",
       "  'V': 14,\n",
       "  'M': 12,\n",
       "  'S': 20,\n",
       "  'R': 3,\n",
       "  'X': 9,\n",
       "  'C': 2,\n",
       "  'Y': 5},\n",
       " {'H': 20,\n",
       "  'X': 16,\n",
       "  'I': 64,\n",
       "  'W': 34,\n",
       "  'M': 23,\n",
       "  'G': 17,\n",
       "  'Q': 16,\n",
       "  'K': 11,\n",
       "  'F': 12,\n",
       "  'S': 6,\n",
       "  'L': 22,\n",
       "  'R': 31,\n",
       "  'E': 16,\n",
       "  'Y': 20,\n",
       "  'O': 3,\n",
       "  'A': 15,\n",
       "  'V': 24,\n",
       "  'D': 5,\n",
       "  'P': 11,\n",
       "  'J': 9,\n",
       "  'T': 1,\n",
       "  'Z': 1},\n",
       " {'R': 71,\n",
       "  'A': 30,\n",
       "  'G': 17,\n",
       "  'P': 17,\n",
       "  'U': 24,\n",
       "  'N': 23,\n",
       "  'O': 4,\n",
       "  'Y': 19,\n",
       "  'E': 18,\n",
       "  'J': 12,\n",
       "  'H': 17,\n",
       "  'Q': 19,\n",
       "  'F': 28,\n",
       "  'V': 22,\n",
       "  'M': 4,\n",
       "  'S': 10,\n",
       "  'Z': 15,\n",
       "  'I': 4,\n",
       "  'B': 11,\n",
       "  'X': 4,\n",
       "  'T': 5,\n",
       "  'W': 1,\n",
       "  'C': 2}]"
      ]
     },
     "execution_count": 24,
     "metadata": {},
     "output_type": "execute_result"
    }
   ],
   "source": [
    "vignere_chif_dec('interessantesDokument.txt.enc')"
   ]
  }
 ],
 "metadata": {
  "kernelspec": {
   "display_name": "pgi",
   "language": "python",
   "name": "python3"
  },
  "language_info": {
   "codemirror_mode": {
    "name": "ipython",
    "version": 3
   },
   "file_extension": ".py",
   "mimetype": "text/x-python",
   "name": "python",
   "nbconvert_exporter": "python",
   "pygments_lexer": "ipython3",
   "version": "3.11.9"
  }
 },
 "nbformat": 4,
 "nbformat_minor": 2
}
