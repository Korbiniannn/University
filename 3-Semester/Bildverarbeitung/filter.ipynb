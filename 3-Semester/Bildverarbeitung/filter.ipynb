{
 "cells": [
  {
   "cell_type": "code",
   "execution_count": 15,
   "metadata": {},
   "outputs": [
    {
     "name": "stdout",
     "output_type": "stream",
     "text": [
      "[[1. 0. 0.]\n",
      " [0. 0. 0.]\n",
      " [0. 0. 0.]]\n",
      "[[1. 0. 0.]\n",
      " [0. 0. 0.]\n",
      " [0. 0. 0.]]\n",
      "[[1. 0. 0.]\n",
      " [0. 0. 0.]\n",
      " [0. 0. 0.]]\n",
      "[[1. 0. 0.]\n",
      " [1. 0. 0.]\n",
      " [0. 0. 0.]]\n",
      "[[1. 0. 0.]\n",
      " [1. 1. 0.]\n",
      " [0. 0. 0.]]\n",
      "[[1. 0. 0.]\n",
      " [1. 1. 1.]\n",
      " [0. 0. 0.]]\n",
      "[[1. 0. 0.]\n",
      " [1. 1. 1.]\n",
      " [1. 0. 0.]]\n",
      "[[1. 0. 0.]\n",
      " [1. 1. 1.]\n",
      " [1. 0. 0.]]\n",
      "[[1. 0. 0.]\n",
      " [1. 1. 1.]\n",
      " [1. 0. 0.]]\n",
      "Gefaltetes Bild:\n",
      " [[1. 0. 0.]\n",
      " [1. 1. 1.]\n",
      " [1. 0. 0.]]\n"
     ]
    }
   ],
   "source": [
    "import numpy as np\n",
    "n = 0\n",
    "# Beispielbild (5x5)\n",
    "image = np.array([\n",
    "    [0, 0, 0, 0, 0],\n",
    "    [0, 0, 0, 0, 0],\n",
    "    [0, 0, 1, 0, 0],\n",
    "    [0, 0, 0, 0, 0],\n",
    "    [0, 0, 0, 0, 0]\n",
    "])\n",
    "\n",
    "# Sobel-Filter für Kanten\n",
    "kernel = np.array([\n",
    "    [0, 0, 1],\n",
    "    [1, 1, 1],\n",
    "    [0, 0, 1]\n",
    "])\n",
    "\n",
    "# Kernelgröße\n",
    "k_height, k_width = kernel.shape\n",
    "i_height, i_width = image.shape\n",
    "\n",
    "# Output-Bild initialisieren\n",
    "output = np.zeros((i_height - k_height + 1, i_width - k_width + 1))\n",
    "\n",
    "# Kernel anwenden\n",
    "for i in range(i_height - k_height + 1):\n",
    "    for j in range(i_width - k_width + 1):\n",
    "        # Bildausschnitt auswählen, der mit dem Kernel gefaltet wird\n",
    "        region = image[i:i + k_height, j:j + k_width]\n",
    "        n +=1 \n",
    "        # Faltung: Punktprodukt von Kernel und Bildausschnitt\n",
    "        output[i, j] = np.sum(region * kernel)\n",
    "        \n",
    "        print(output)\n",
    "\n",
    "print(\"Gefaltetes Bild:\\n\", output)\n"
   ]
  }
 ],
 "metadata": {
  "kernelspec": {
   "display_name": "dsci",
   "language": "python",
   "name": "python3"
  },
  "language_info": {
   "codemirror_mode": {
    "name": "ipython",
    "version": 3
   },
   "file_extension": ".py",
   "mimetype": "text/x-python",
   "name": "python",
   "nbconvert_exporter": "python",
   "pygments_lexer": "ipython3",
   "version": "3.12.2"
  }
 },
 "nbformat": 4,
 "nbformat_minor": 2
}
