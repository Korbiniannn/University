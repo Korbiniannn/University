{
 "cells": [
  {
   "cell_type": "code",
   "execution_count": 1,
   "metadata": {},
   "outputs": [
    {
     "name": "stderr",
     "output_type": "stream",
     "text": [
      "2024-11-29 14:47:51.612 python[29976:1422711] +[IMKClient subclass]: chose IMKClient_Legacy\n",
      "2024-11-29 14:47:51.612 python[29976:1422711] +[IMKInputSession subclass]: chose IMKInputSession_Legacy\n"
     ]
    },
    {
     "ename": "",
     "evalue": "",
     "output_type": "error",
     "traceback": [
      "\u001b[1;31mThe Kernel crashed while executing code in the current cell or a previous cell. \n",
      "\u001b[1;31mPlease review the code in the cell(s) to identify a possible cause of the failure. \n",
      "\u001b[1;31mClick <a href='https://aka.ms/vscodeJupyterKernelCrash'>here</a> for more info. \n",
      "\u001b[1;31mView Jupyter <a href='command:jupyter.viewOutput'>log</a> for further details."
     ]
    }
   ],
   "source": [
    "import cv2\n",
    "\n",
    "# Niedrig aufgelöstes Bild laden\n",
    "image = cv2.imread('feynman_lecture.jpg')\n",
    "\n",
    "# Bilateral-Filter anwenden (sanfte Schärfung)\n",
    "sharpened = cv2.GaussianBlur(image, (0, 0), 3)\n",
    "sharpened = cv2.addWeighted(image, 1.5, sharpened, -0.5, 0)\n",
    "\n",
    "# Bild anzeigen und speichern\n",
    "cv2.imshow(\"Sharpened_feynman_lecture\", sharpened)\n",
    "cv2.imwrite(\"sharpened_feynman_lecture.jpg\", sharpened)\n",
    "cv2.waitKey(0)\n",
    "cv2.destroyAllWindows()\n"
   ]
  }
 ],
 "metadata": {
  "kernelspec": {
   "display_name": "dsci",
   "language": "python",
   "name": "python3"
  },
  "language_info": {
   "codemirror_mode": {
    "name": "ipython",
    "version": 3
   },
   "file_extension": ".py",
   "mimetype": "text/x-python",
   "name": "python",
   "nbconvert_exporter": "python",
   "pygments_lexer": "ipython3",
   "version": "3.12.2"
  }
 },
 "nbformat": 4,
 "nbformat_minor": 2
}
