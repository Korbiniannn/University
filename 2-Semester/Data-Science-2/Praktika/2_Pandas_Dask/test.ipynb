{
 "cells": [
  {
   "cell_type": "code",
   "execution_count": 1,
   "metadata": {},
   "outputs": [
    {
     "name": "stdout",
     "output_type": "stream",
     "text": [
      "Dask version: 2024.5.2\n",
      "Dask Expr version: 1.1.2\n",
      "PyArrow version: 16.1.0\n",
      "   VendorID tpep_pickup_datetime tpep_dropoff_datetime  passenger_count  \\\n",
      "0         1  2022-01-01 00:35:40   2022-01-01 00:53:29              2.0   \n",
      "1         1  2022-01-01 00:33:43   2022-01-01 00:42:07              1.0   \n",
      "2         2  2022-01-01 00:53:21   2022-01-01 01:02:19              1.0   \n",
      "3         2  2022-01-01 00:25:21   2022-01-01 00:35:23              1.0   \n",
      "4         2  2022-01-01 00:36:48   2022-01-01 01:14:20              1.0   \n",
      "\n",
      "   trip_distance  RatecodeID store_and_fwd_flag  PULocationID  DOLocationID  \\\n",
      "0           3.80         1.0                  N           142           236   \n",
      "1           2.10         1.0                  N           236            42   \n",
      "2           0.97         1.0                  N           166           166   \n",
      "3           1.09         1.0                  N           114            68   \n",
      "4           4.30         1.0                  N            68           163   \n",
      "\n",
      "   payment_type  fare_amount  extra  mta_tax  tip_amount  tolls_amount  \\\n",
      "0             1         14.5    3.0      0.5        3.65           0.0   \n",
      "1             1          8.0    0.5      0.5        4.00           0.0   \n",
      "2             1          7.5    0.5      0.5        1.76           0.0   \n",
      "3             2          8.0    0.5      0.5        0.00           0.0   \n",
      "4             1         23.5    0.5      0.5        3.00           0.0   \n",
      "\n",
      "   improvement_surcharge  total_amount  congestion_surcharge  airport_fee  \n",
      "0                    0.3         21.95                   2.5          0.0  \n",
      "1                    0.3         13.30                   0.0          0.0  \n",
      "2                    0.3         10.56                   0.0          0.0  \n",
      "3                    0.3         11.80                   2.5          0.0  \n",
      "4                    0.3         30.30                   2.5          0.0  \n"
     ]
    }
   ],
   "source": [
    "import dask\n",
    "import dask.dataframe as dd\n",
    "import dask_expr\n",
    "import pyarrow\n",
    "\n",
    "# Verify versions\n",
    "print(\"Dask version:\", dask.__version__)\n",
    "print(\"Dask Expr version:\", dask_expr.__version__)\n",
    "print(\"PyArrow version:\", pyarrow.__version__)\n",
    "\n",
    "# Load a sample parquet file (replace 'your_file.parquet' with your actual file path)\n",
    "try:\n",
    "    df = dd.read_parquet('./data/yellow_taxi_tripdata/yellow_tripdata_2022-*.parquet', engine='pyarrow')\n",
    "    print(df.head())\n",
    "except Exception as e:\n",
    "    print(f\"An error occurred: {e}\")\n"
   ]
  },
  {
   "cell_type": "code",
   "execution_count": 2,
   "metadata": {},
   "outputs": [
    {
     "name": "stdout",
     "output_type": "stream",
     "text": [
      "{'temporary-directory': None, 'visualization': {'engine': None}, 'tokenize': {'ensure-deterministic': False}, 'dataframe': {'backend': 'pandas', 'shuffle': {'method': None, 'compression': None}, 'parquet': {'metadata-task-size-local': 512, 'metadata-task-size-remote': 1, 'minimum-partition-size': 75000000}, 'convert-string': None, 'query-planning': None}, 'array': {'backend': 'numpy', 'chunk-size': '128MiB', 'rechunk': {'method': 'tasks', 'threshold': 4}, 'svg': {'size': 120}, 'slicing': {'split-large-chunks': None}}, 'optimization': {'annotations': {'fuse': True}, 'fuse': {'active': None, 'ave-width': 1, 'max-width': None, 'max-height': inf, 'max-depth-new-edges': None, 'subgraphs': None, 'rename-keys': True}}, 'admin': {'traceback': {'shorten': ['concurrent[\\\\\\\\\\\\/]futures[\\\\\\\\\\\\/]', 'dask[\\\\\\\\\\\\/](base|core|local|multiprocessing|optimization|threaded|utils)\\\\.py', 'dask[\\\\\\\\\\\\/]array[\\\\\\\\\\\\/]core\\\\.py', 'dask[\\\\\\\\\\\\/]dataframe[\\\\\\\\\\\\/](core|methods)\\\\.py', 'distributed[\\\\\\\\\\\\/](client|scheduler|utils|worker)\\\\.py', 'tornado[\\\\\\\\\\\\/]gen\\\\.py', 'pandas[\\\\\\\\\\\\/]core[\\\\\\\\\\\\/]']}}}\n"
     ]
    }
   ],
   "source": [
    "from dask import config\n",
    "\n",
    "# Print Dask configuration\n",
    "print(config.config)\n"
   ]
  }
 ],
 "metadata": {
  "kernelspec": {
   "display_name": "dsci",
   "language": "python",
   "name": "python3"
  },
  "language_info": {
   "codemirror_mode": {
    "name": "ipython",
    "version": 3
   },
   "file_extension": ".py",
   "mimetype": "text/x-python",
   "name": "python",
   "nbconvert_exporter": "python",
   "pygments_lexer": "ipython3",
   "version": "3.12.2"
  }
 },
 "nbformat": 4,
 "nbformat_minor": 2
}
