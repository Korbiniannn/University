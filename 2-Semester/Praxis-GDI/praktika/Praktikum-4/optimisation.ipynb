{
 "cells": [
  {
   "cell_type": "code",
   "execution_count": 81,
   "metadata": {},
   "outputs": [
    {
     "name": "stdout",
     "output_type": "stream",
     "text": [
      "[12.334842183313473, 18.298978626539434, 8.345543736194116, 5.6596043246361285, 4.251239833100401, 4.324785059143347, 6.842409576566484, 12.847606229514913, 13.34098600588132, 10.16704329600547, 1.8555435005147805, 7.685585769451307, 3.4719178420054977, 13.56363518443147, 15.454777424557637, 0.37801745153312943, 3.8272465157018343, 13.861678690563064, 8.734930731337311, 2.0453097413937926, 2.7883938375994943, 2.769369726413829, 12.287515421315629, 6.585166032212634, 8.174058803034388, 1.5706327613310247, 0.168456765856662, 0.9597801369637898, 12.520299968502426, 15.385281017627449, 4.562878553631429, 0.1379115011574708, 14.250870773235272, 9.486684596258314, 6.569044033007448, 3.0133565406344593, 15.068210002597613, 14.291704150496509, 6.804893171198569, 13.277184496082567, 15.96741332906813, 9.837147347746498, 15.483117452644144, 8.509104840891272, 9.407816394905666, 8.032236897446664, 1.0453313871424719, 9.738112291100698, 0.8985187729950362, 6.598897460672502, 7.504894284745878, 6.964271944980242, 2.219921443641312, 5.021489221325917, 3.7562180241647525, 4.309130737783403, 8.729736077885306, 19.39029687901988, 2.4463820167160235, 1.6324383139715248, 6.163119018613652, 6.856096147387329, 4.219972831270705, 6.609203492967234, 8.555315321266782, 3.8570646458323705, 1.64940057823202, 1.7489032709320702, 15.977005646486747, 12.315290596366577, 14.052532313776364, 7.46261263049632, 2.2353931055985514, 4.267582977775538, 5.825199676289422, 11.788032758459948, 9.657092165329416, 15.887744527955148, 18.49890378677516, 5.315856728073009, 8.997441473036714, 11.926443903937065, 13.449282324261693, 13.941569000224991, 0.4737609623529555, 0.48749395701651577, 9.959988444301837, 5.911247311844653, 3.2547839021958826, 8.922974596784405, 7.627754426199901, 17.626641578123955, 3.6043105695130944, 11.76109017890055, 16.01342689028605, 0.5702605768619736, 3.3155315993620302, 1.594185331652339, 8.018261464063512, 11.945470054572077]\n"
     ]
    }
   ],
   "source": [
    "import random\n",
    "import time\n",
    "import numpy as np\n",
    "\n",
    "def distance_point_to_line(p, p1, p2):\n",
    "    x0, y0 = p\n",
    "    x1, y1 = p1\n",
    "    x2, y2 = p2\n",
    "    \n",
    "    numerator = abs((y2 - y1) * x0 - (x2 - x1) * y0 + x2 * y1 - y2 * x1)\n",
    "    denominator = np.sqrt((y2 - y1)**2 + (x2 - x1)**2)\n",
    "    \n",
    "    return numerator / denominator\n",
    "\n",
    "# Beispielhafte Punkte\n",
    "N = 100\n",
    "p1 = [(random.uniform(-10, 10), random.uniform(-10, 10)) for _ in range(N)]\n",
    "p2 = [(random.uniform(-10, 10), random.uniform(-10, 10)) for _ in range(N)]\n",
    "p = (random.uniform(-10, 10), random.uniform(-10, 10))\n",
    "\n",
    "# Entfernung für alle Linien berechnen\n",
    "distances = [distance_point_to_line(p, p1[i], p2[i]) for i in range(N)]\n",
    "print(distances)"
   ]
  },
  {
   "cell_type": "code",
   "execution_count": 83,
   "metadata": {},
   "outputs": [],
   "source": [
    "def performance_time(N_values):\n",
    "    for N in N_values:\n",
    "        p1 = [(random.uniform(-10, 10), random.uniform(-10,10)) for _ in range(N)]\n",
    "        p2 = [(random.uniform(-10, 10), random.uniform(-10,10)) for _ in range(N)]\n",
    "        p = (random.uniform(-10, 10), random.uniform(-10,10))\n",
    "\n",
    "        start_time = time.time()\n",
    "        distances = [distance_point_to_line(p, p1[i], p2[i]) for i in range(N)]\n",
    "        end_time = time.time()\n",
    "\n",
    "        start_time_np = time.time()\n",
    "        ds = distance_numpy(p1, p2, p)\n",
    "        end_time_np = time.time()\n",
    "\n",
    "        print(f\"Normal Time taken for N={N}: {end_time - start_time} seconds\")\n",
    "        print(f\"Numpy Time taken for N={N}: {end_time_np - start_time_np} seconds\")"
   ]
  },
  {
   "cell_type": "code",
   "execution_count": 84,
   "metadata": {},
   "outputs": [
    {
     "name": "stdout",
     "output_type": "stream",
     "text": [
      "Normal Time taken for N=50: 0.0001361370086669922 seconds\n",
      "Numpy Time taken for N=50: 0.0022590160369873047 seconds\n",
      "Normal Time taken for N=100: 0.00018906593322753906 seconds\n",
      "Numpy Time taken for N=100: 0.0001289844512939453 seconds\n",
      "Normal Time taken for N=1000: 0.002016782760620117 seconds\n",
      "Numpy Time taken for N=1000: 0.001355886459350586 seconds\n"
     ]
    }
   ],
   "source": [
    "performance_time([50, 100, 1000]) "
   ]
  },
  {
   "cell_type": "code",
   "execution_count": 82,
   "metadata": {},
   "outputs": [],
   "source": [
    "def distance_numpy(p1, p2, p):\n",
    "    p1 = np.array(p1)\n",
    "    p2 = np.array(p2)\n",
    "    p = np.array(p)\n",
    "    \n",
    "    # Extrahiere die Koordinaten\n",
    "    x1, y1 = p1[:, 0], p1[:, 1]\n",
    "    x2, y2 = p2[:, 0], p2[:, 1]\n",
    "    \n",
    "    # Berechne die Distanzvektoren\n",
    "    numerator = np.abs((y2 - y1) * p[0] - (x2 - x1) * p[1] + x2 * y1 - y2 * x1)\n",
    "    denominator = np.sqrt((y2 - y1)**2 + (x2 - x1)**2)\n",
    "    \n",
    "    distances = numerator / denominator\n",
    "    return distances\n"
   ]
  },
  {
   "cell_type": "code",
   "execution_count": 56,
   "metadata": {},
   "outputs": [],
   "source": [
    "def factorial(n):\n",
    "    \"\"\"Return the factorial of n.\"\"\"\n",
    "    if n < 0:\n",
    "        raise ValueError(\"n must be a non-negative integer\")\n",
    "    elif n == 0:\n",
    "        return 1\n",
    "    else:\n",
    "        return n * factorial(n-1)"
   ]
  },
  {
   "cell_type": "code",
   "execution_count": 57,
   "metadata": {},
   "outputs": [],
   "source": [
    "from functools import lru_cache\n",
    "\n",
    "\n",
    "@lru_cache(maxsize=None)\n",
    "def factorial2(n):\n",
    "    \"\"\"Return the factorial of n.\"\"\"\n",
    "    if n < 0:\n",
    "        raise ValueError(\"n must be a non-negative integer\")\n",
    "    elif n == 0:\n",
    "        return 1\n",
    "    else:\n",
    "        return n * factorial(n-1)"
   ]
  },
  {
   "cell_type": "code",
   "execution_count": 60,
   "metadata": {},
   "outputs": [
    {
     "name": "stdout",
     "output_type": "stream",
     "text": [
      "Time without caching: 0.0005788803100585938\n",
      "Time with caching: 0.0002307891845703125\n"
     ]
    }
   ],
   "source": [
    "start_time = time.time()\n",
    "factorial(20)\n",
    "end_time = time.time()\n",
    "print(\"Time without caching:\", end_time - start_time)\n",
    "\n",
    "start_time_c = time.time()\n",
    "factorial2(20)\n",
    "end_time_c = time.time()\n",
    "print(\"Time with caching:\", end_time_c - start_time_c)\n"
   ]
  },
  {
   "cell_type": "code",
   "execution_count": 88,
   "metadata": {},
   "outputs": [],
   "source": [
    "def sum_of_products(x, y):\n",
    "    result = 0\n",
    "    for i in range(len(x)):\n",
    "        for j in range(len(y)):\n",
    "            result += x[i] * y[j]\n",
    "    return result"
   ]
  },
  {
   "cell_type": "code",
   "execution_count": 89,
   "metadata": {},
   "outputs": [],
   "source": [
    "def sum_of_products_np(x, y):\n",
    "    x = np.array(x)\n",
    "    y = np.array(y)\n",
    "    return np.sum(x[:, np.newaxis] * y)"
   ]
  },
  {
   "cell_type": "code",
   "execution_count": 90,
   "metadata": {},
   "outputs": [],
   "source": [
    "def sum_new_algo(x, y):\n",
    "    x = np.array(x)\n",
    "    y = np.array(y)\n",
    "    return np.sum(x) * np.sum(y)"
   ]
  },
  {
   "cell_type": "code",
   "execution_count": 92,
   "metadata": {},
   "outputs": [
    {
     "name": "stdout",
     "output_type": "stream",
     "text": [
      "Base Time =  0.1663658618927002\n",
      "Opt Time =  0.0015840530395507812\n",
      "new Algo Time =  4.1961669921875e-05\n"
     ]
    }
   ],
   "source": [
    "n = 1000\n",
    "y = np.random.rand(n)\n",
    "x = np.random.rand(n)\n",
    "\n",
    "start1 = time.time()\n",
    "sum_of_products(x,y)\n",
    "end1 = time.time()\n",
    "\n",
    "start2 = time.time()\n",
    "sum_of_products_np(x,y)\n",
    "end2 = time.time()\n",
    "\n",
    "start3 = time.time()\n",
    "sum_new_algo(x,y)\n",
    "end3 = time.time()\n",
    "\n",
    "print(\"Base Time = \", end1 - start1)\n",
    "print(\"Opt Time = \", end2 - start2)\n",
    "print(\"new Algo Time = \", end3 - start3)"
   ]
  },
  {
   "cell_type": "code",
   "execution_count": 103,
   "metadata": {},
   "outputs": [],
   "source": [
    "def f(x):\n",
    "    if x>1:\n",
    "        return np.exp(-x**2)\n",
    "    else:\n",
    "        return 0\n",
    "    \n",
    "\n",
    "def ufunc_f(x):\n",
    "    return np.where(x>1, np.exp(-x**2), 0)"
   ]
  },
  {
   "cell_type": "code",
   "execution_count": 104,
   "metadata": {},
   "outputs": [],
   "source": [
    "def mapf_without_ufunc(arr):\n",
    "    return np.array([f(x) for x in arr])"
   ]
  },
  {
   "cell_type": "code",
   "execution_count": 105,
   "metadata": {},
   "outputs": [],
   "source": [
    "def mapf_with_ufunc(arr):\n",
    "    return ufunc_f(arr)"
   ]
  },
  {
   "cell_type": "code",
   "execution_count": 110,
   "metadata": {},
   "outputs": [
    {
     "name": "stdout",
     "output_type": "stream",
     "text": [
      "without ufunc =  [0.00000000e+00 1.12535175e-07 2.31952283e-16 1.60381089e-28\n",
      " 3.72007598e-44 1.83156389e-02 1.38879439e-11 5.24288566e-22]\n",
      "with ufunc =  [0.00000000e+00 1.12535175e-07 2.31952283e-16 1.60381089e-28\n",
      " 3.72007598e-44 1.83156389e-02 1.38879439e-11 5.24288566e-22]\n"
     ]
    }
   ],
   "source": [
    "arr = np.array([1,4,6,8,10,2,5,7])\n",
    "\n",
    "print(\"without ufunc = \", mapf_without_ufunc(arr))\n",
    "print(\"with ufunc = \", mapf_with_ufunc(arr))"
   ]
  }
 ],
 "metadata": {
  "kernelspec": {
   "display_name": "dsci",
   "language": "python",
   "name": "python3"
  },
  "language_info": {
   "codemirror_mode": {
    "name": "ipython",
    "version": 3
   },
   "file_extension": ".py",
   "mimetype": "text/x-python",
   "name": "python",
   "nbconvert_exporter": "python",
   "pygments_lexer": "ipython3",
   "version": "3.12.2"
  }
 },
 "nbformat": 4,
 "nbformat_minor": 2
}
