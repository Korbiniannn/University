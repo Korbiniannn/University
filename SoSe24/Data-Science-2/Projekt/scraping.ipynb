{
 "cells": [
  {
   "cell_type": "code",
   "execution_count": 2,
   "metadata": {},
   "outputs": [],
   "source": [
    "import bs4\n",
    "from bs4 import BeautifulSoup\n",
    "import requests\n"
   ]
  },
  {
   "cell_type": "code",
   "execution_count": 3,
   "metadata": {},
   "outputs": [
    {
     "name": "stdout",
     "output_type": "stream",
     "text": [
      "{'Jahr': 2021.0, 'CDU/CSU': 24.1, 'SPD': 25.7, 'FDP': 11.5, 'Die Grünen': 0, 'Bündnis 90/Die Grünen': 14.8, 'Die Linke. PDS': 4.9, 'AfD': 10.3, 'Sonstige': 8.7}\n",
      "{'Jahr': 2017.0, 'CDU/CSU': 32.9, 'SPD': 20.5, 'FDP': 10.7, 'Die Grünen': 0, 'Bündnis 90/Die Grünen': 8.9, 'Die Linke. PDS': 9.2, 'AfD': 12.6, 'Sonstige': 5.0}\n",
      "{'Jahr': 2013.0, 'CDU/CSU': 41.5, 'SPD': 25.7, 'FDP': 4.8, 'Die Grünen': 0, 'Bündnis 90/Die Grünen': 8.4, 'Die Linke. PDS': 8.6, 'AfD': 4.7, 'Sonstige': 6.3}\n",
      "{'Jahr': 2009.0, 'CDU/CSU': 33.8, 'SPD': 23.0, 'FDP': 14.6, 'Die Grünen': 0, 'Bündnis 90/Die Grünen': 10.7, 'Die Linke. PDS': 11.9, 'AfD': 0, 'Sonstige': 6.0}\n",
      "{'Jahr': 2005.0, 'CDU/CSU': 35.2, 'SPD': 34.2, 'FDP': 9.8, 'Die Grünen': 0, 'Bündnis 90/Die Grünen': 8.1, 'Die Linke. PDS': 8.7, 'AfD': 0, 'Sonstige': 4.0}\n",
      "{'Jahr': 2002.0, 'CDU/CSU': 38.5, 'SPD': 38.5, 'FDP': 7.4, 'Die Grünen': 0, 'Bündnis 90/Die Grünen': 8.6, 'Die Linke. PDS': 4.0, 'AfD': 0, 'Sonstige': 3.0}\n",
      "{'Jahr': 1998.0, 'CDU/CSU': 35.2, 'SPD': 40.9, 'FDP': 6.2, 'Die Grünen': 0, 'Bündnis 90/Die Grünen': 6.7, 'Die Linke. PDS': 5.1, 'AfD': 0, 'Sonstige': 5.9}\n",
      "{'Jahr': 1994.0, 'CDU/CSU': 41.5, 'SPD': 36.4, 'FDP': 6.9, 'Die Grünen': 0, 'Bündnis 90/Die Grünen': 7.3, 'Die Linke. PDS': 4.4, 'AfD': 0, 'Sonstige': 3.5}\n",
      "{'Jahr': 1990.0, 'CDU/CSU': 43.8, 'SPD': 33.5, 'FDP': 11.0, 'Die Grünen': 3.8, 'Bündnis 90/Die Grünen': 1.2, 'Die Linke. PDS': 2.4, 'AfD': 0, 'Sonstige': 4.3}\n",
      "{'Jahr': 1987.0, 'CDU/CSU': 44.3, 'SPD': 37.0, 'FDP': 9.1, 'Die Grünen': 8.3, 'Bündnis 90/Die Grünen': 0, 'Die Linke. PDS': 0, 'AfD': 0, 'Sonstige': 1.3}\n",
      "{'Jahr': 1983.0, 'CDU/CSU': 48.8, 'SPD': 38.2, 'FDP': 7.0, 'Die Grünen': 5.6, 'Bündnis 90/Die Grünen': 0, 'Die Linke. PDS': 0, 'AfD': 0, 'Sonstige': 0.4}\n",
      "{'Jahr': 1980.0, 'CDU/CSU': 44.5, 'SPD': 42.9, 'FDP': 10.6, 'Die Grünen': 1.5, 'Bündnis 90/Die Grünen': 0, 'Die Linke. PDS': 0, 'AfD': 0, 'Sonstige': 0.5}\n",
      "{'Jahr': 1976.0, 'CDU/CSU': 48.6, 'SPD': 42.6, 'FDP': 7.9, 'Die Grünen': 0, 'Bündnis 90/Die Grünen': 0, 'Die Linke. PDS': 0, 'AfD': 0, 'Sonstige': 0.9}\n",
      "{'Jahr': 1972.0, 'CDU/CSU': 44.9, 'SPD': 45.8, 'FDP': 8.4, 'Die Grünen': 0, 'Bündnis 90/Die Grünen': 0, 'Die Linke. PDS': 0, 'AfD': 0, 'Sonstige': 0.9}\n",
      "{'Jahr': 1969.0, 'CDU/CSU': 46.1, 'SPD': 42.7, 'FDP': 5.8, 'Die Grünen': 0, 'Bündnis 90/Die Grünen': 0, 'Die Linke. PDS': 0, 'AfD': 0, 'Sonstige': 5.5}\n",
      "{'Jahr': 1965.0, 'CDU/CSU': 47.6, 'SPD': 39.3, 'FDP': 9.5, 'Die Grünen': 0, 'Bündnis 90/Die Grünen': 0, 'Die Linke. PDS': 0, 'AfD': 0, 'Sonstige': 3.6}\n",
      "{'Jahr': 1961.0, 'CDU/CSU': 45.3, 'SPD': 36.2, 'FDP': 12.8, 'Die Grünen': 0, 'Bündnis 90/Die Grünen': 0, 'Die Linke. PDS': 0, 'AfD': 0, 'Sonstige': 5.7}\n",
      "{'Jahr': 1957.0, 'CDU/CSU': 50.2, 'SPD': 31.8, 'FDP': 7.7, 'Die Grünen': 0, 'Bündnis 90/Die Grünen': 0, 'Die Linke. PDS': 0, 'AfD': 0, 'Sonstige': 10.5}\n",
      "{'Jahr': 1953.0, 'CDU/CSU': 45.2, 'SPD': 28.8, 'FDP': 9.5, 'Die Grünen': 0, 'Bündnis 90/Die Grünen': 0, 'Die Linke. PDS': 0, 'AfD': 0, 'Sonstige': 16.5}\n",
      "{'Jahr': 1949.0, 'CDU/CSU': 31.0, 'SPD': 29.2, 'FDP': 11.9, 'Die Grünen': 0, 'Bündnis 90/Die Grünen': 0, 'Die Linke. PDS': 0, 'AfD': 0, 'Sonstige': 27.9}\n"
     ]
    }
   ],
   "source": [
    "url = 'https://www.bundestag.de/parlament/wahlen/ergebnisse_seit1949-244692'  # Ersetzen Sie dies durch die tatsächliche URL\n",
    "\n",
    "response = requests.get(url)\n",
    "\n",
    "if response.status_code == 200:\n",
    "    soup = BeautifulSoup(response.content, 'html.parser')\n",
    "\n",
    "table = soup.find('table')\n",
    "\n",
    "results = []\n",
    "\n",
    "\n",
    "for row in table.find('tbody').find_all('tr'):\n",
    "    data = {}\n",
    "    for cell in row.find_all('td'):\n",
    "\n",
    "        column_name = cell['data-th']\n",
    "        value = cell.get_text(strip=True).replace(',', '.')\n",
    "            \n",
    "        \n",
    "        if value == '':\n",
    "            value = 0\n",
    "        else:\n",
    "            value = float(value)\n",
    "        \n",
    "        data[column_name] = value\n",
    "    \n",
    "    results.append(data)\n",
    "\n",
    "for result in results:\n",
    "    print(result)"
   ]
  },
  {
   "cell_type": "code",
   "execution_count": 4,
   "metadata": {},
   "outputs": [],
   "source": [
    "import pandas as pd\n",
    "import numpy as np"
   ]
  },
  {
   "cell_type": "code",
   "execution_count": 5,
   "metadata": {},
   "outputs": [
    {
     "data": {
      "text/html": [
       "<div>\n",
       "<style scoped>\n",
       "    .dataframe tbody tr th:only-of-type {\n",
       "        vertical-align: middle;\n",
       "    }\n",
       "\n",
       "    .dataframe tbody tr th {\n",
       "        vertical-align: top;\n",
       "    }\n",
       "\n",
       "    .dataframe thead th {\n",
       "        text-align: right;\n",
       "    }\n",
       "</style>\n",
       "<table border=\"1\" class=\"dataframe\">\n",
       "  <thead>\n",
       "    <tr style=\"text-align: right;\">\n",
       "      <th></th>\n",
       "      <th>Jahr</th>\n",
       "      <th>CDU/CSU</th>\n",
       "      <th>SPD</th>\n",
       "      <th>FDP</th>\n",
       "      <th>Die Grünen</th>\n",
       "      <th>Die Linke</th>\n",
       "      <th>AfD</th>\n",
       "      <th>Sonstige</th>\n",
       "    </tr>\n",
       "  </thead>\n",
       "  <tbody>\n",
       "    <tr>\n",
       "      <th>0</th>\n",
       "      <td>2021</td>\n",
       "      <td>24</td>\n",
       "      <td>25</td>\n",
       "      <td>11</td>\n",
       "      <td>14</td>\n",
       "      <td>4</td>\n",
       "      <td>10</td>\n",
       "      <td>8</td>\n",
       "    </tr>\n",
       "    <tr>\n",
       "      <th>1</th>\n",
       "      <td>2017</td>\n",
       "      <td>32</td>\n",
       "      <td>20</td>\n",
       "      <td>10</td>\n",
       "      <td>8</td>\n",
       "      <td>9</td>\n",
       "      <td>12</td>\n",
       "      <td>5</td>\n",
       "    </tr>\n",
       "    <tr>\n",
       "      <th>2</th>\n",
       "      <td>2013</td>\n",
       "      <td>41</td>\n",
       "      <td>25</td>\n",
       "      <td>4</td>\n",
       "      <td>8</td>\n",
       "      <td>8</td>\n",
       "      <td>4</td>\n",
       "      <td>6</td>\n",
       "    </tr>\n",
       "    <tr>\n",
       "      <th>3</th>\n",
       "      <td>2009</td>\n",
       "      <td>33</td>\n",
       "      <td>23</td>\n",
       "      <td>14</td>\n",
       "      <td>10</td>\n",
       "      <td>11</td>\n",
       "      <td>0</td>\n",
       "      <td>6</td>\n",
       "    </tr>\n",
       "    <tr>\n",
       "      <th>4</th>\n",
       "      <td>2005</td>\n",
       "      <td>35</td>\n",
       "      <td>34</td>\n",
       "      <td>9</td>\n",
       "      <td>8</td>\n",
       "      <td>8</td>\n",
       "      <td>0</td>\n",
       "      <td>4</td>\n",
       "    </tr>\n",
       "    <tr>\n",
       "      <th>5</th>\n",
       "      <td>2002</td>\n",
       "      <td>38</td>\n",
       "      <td>38</td>\n",
       "      <td>7</td>\n",
       "      <td>8</td>\n",
       "      <td>4</td>\n",
       "      <td>0</td>\n",
       "      <td>3</td>\n",
       "    </tr>\n",
       "    <tr>\n",
       "      <th>6</th>\n",
       "      <td>1998</td>\n",
       "      <td>35</td>\n",
       "      <td>40</td>\n",
       "      <td>6</td>\n",
       "      <td>6</td>\n",
       "      <td>5</td>\n",
       "      <td>0</td>\n",
       "      <td>5</td>\n",
       "    </tr>\n",
       "    <tr>\n",
       "      <th>7</th>\n",
       "      <td>1994</td>\n",
       "      <td>41</td>\n",
       "      <td>36</td>\n",
       "      <td>6</td>\n",
       "      <td>7</td>\n",
       "      <td>4</td>\n",
       "      <td>0</td>\n",
       "      <td>3</td>\n",
       "    </tr>\n",
       "    <tr>\n",
       "      <th>8</th>\n",
       "      <td>1990</td>\n",
       "      <td>43</td>\n",
       "      <td>33</td>\n",
       "      <td>11</td>\n",
       "      <td>5</td>\n",
       "      <td>2</td>\n",
       "      <td>0</td>\n",
       "      <td>4</td>\n",
       "    </tr>\n",
       "    <tr>\n",
       "      <th>9</th>\n",
       "      <td>1987</td>\n",
       "      <td>44</td>\n",
       "      <td>37</td>\n",
       "      <td>9</td>\n",
       "      <td>8</td>\n",
       "      <td>0</td>\n",
       "      <td>0</td>\n",
       "      <td>1</td>\n",
       "    </tr>\n",
       "    <tr>\n",
       "      <th>10</th>\n",
       "      <td>1983</td>\n",
       "      <td>48</td>\n",
       "      <td>38</td>\n",
       "      <td>7</td>\n",
       "      <td>5</td>\n",
       "      <td>0</td>\n",
       "      <td>0</td>\n",
       "      <td>0</td>\n",
       "    </tr>\n",
       "    <tr>\n",
       "      <th>11</th>\n",
       "      <td>1980</td>\n",
       "      <td>44</td>\n",
       "      <td>42</td>\n",
       "      <td>10</td>\n",
       "      <td>1</td>\n",
       "      <td>0</td>\n",
       "      <td>0</td>\n",
       "      <td>0</td>\n",
       "    </tr>\n",
       "    <tr>\n",
       "      <th>12</th>\n",
       "      <td>1976</td>\n",
       "      <td>48</td>\n",
       "      <td>42</td>\n",
       "      <td>7</td>\n",
       "      <td>0</td>\n",
       "      <td>0</td>\n",
       "      <td>0</td>\n",
       "      <td>0</td>\n",
       "    </tr>\n",
       "    <tr>\n",
       "      <th>13</th>\n",
       "      <td>1972</td>\n",
       "      <td>44</td>\n",
       "      <td>45</td>\n",
       "      <td>8</td>\n",
       "      <td>0</td>\n",
       "      <td>0</td>\n",
       "      <td>0</td>\n",
       "      <td>0</td>\n",
       "    </tr>\n",
       "    <tr>\n",
       "      <th>14</th>\n",
       "      <td>1969</td>\n",
       "      <td>46</td>\n",
       "      <td>42</td>\n",
       "      <td>5</td>\n",
       "      <td>0</td>\n",
       "      <td>0</td>\n",
       "      <td>0</td>\n",
       "      <td>5</td>\n",
       "    </tr>\n",
       "    <tr>\n",
       "      <th>15</th>\n",
       "      <td>1965</td>\n",
       "      <td>47</td>\n",
       "      <td>39</td>\n",
       "      <td>9</td>\n",
       "      <td>0</td>\n",
       "      <td>0</td>\n",
       "      <td>0</td>\n",
       "      <td>3</td>\n",
       "    </tr>\n",
       "    <tr>\n",
       "      <th>16</th>\n",
       "      <td>1961</td>\n",
       "      <td>45</td>\n",
       "      <td>36</td>\n",
       "      <td>12</td>\n",
       "      <td>0</td>\n",
       "      <td>0</td>\n",
       "      <td>0</td>\n",
       "      <td>5</td>\n",
       "    </tr>\n",
       "    <tr>\n",
       "      <th>17</th>\n",
       "      <td>1957</td>\n",
       "      <td>50</td>\n",
       "      <td>31</td>\n",
       "      <td>7</td>\n",
       "      <td>0</td>\n",
       "      <td>0</td>\n",
       "      <td>0</td>\n",
       "      <td>10</td>\n",
       "    </tr>\n",
       "    <tr>\n",
       "      <th>18</th>\n",
       "      <td>1953</td>\n",
       "      <td>45</td>\n",
       "      <td>28</td>\n",
       "      <td>9</td>\n",
       "      <td>0</td>\n",
       "      <td>0</td>\n",
       "      <td>0</td>\n",
       "      <td>16</td>\n",
       "    </tr>\n",
       "    <tr>\n",
       "      <th>19</th>\n",
       "      <td>1949</td>\n",
       "      <td>31</td>\n",
       "      <td>29</td>\n",
       "      <td>11</td>\n",
       "      <td>0</td>\n",
       "      <td>0</td>\n",
       "      <td>0</td>\n",
       "      <td>27</td>\n",
       "    </tr>\n",
       "  </tbody>\n",
       "</table>\n",
       "</div>"
      ],
      "text/plain": [
       "    Jahr  CDU/CSU  SPD  FDP  Die Grünen  Die Linke  AfD  Sonstige\n",
       "0   2021       24   25   11          14          4   10         8\n",
       "1   2017       32   20   10           8          9   12         5\n",
       "2   2013       41   25    4           8          8    4         6\n",
       "3   2009       33   23   14          10         11    0         6\n",
       "4   2005       35   34    9           8          8    0         4\n",
       "5   2002       38   38    7           8          4    0         3\n",
       "6   1998       35   40    6           6          5    0         5\n",
       "7   1994       41   36    6           7          4    0         3\n",
       "8   1990       43   33   11           5          2    0         4\n",
       "9   1987       44   37    9           8          0    0         1\n",
       "10  1983       48   38    7           5          0    0         0\n",
       "11  1980       44   42   10           1          0    0         0\n",
       "12  1976       48   42    7           0          0    0         0\n",
       "13  1972       44   45    8           0          0    0         0\n",
       "14  1969       46   42    5           0          0    0         5\n",
       "15  1965       47   39    9           0          0    0         3\n",
       "16  1961       45   36   12           0          0    0         5\n",
       "17  1957       50   31    7           0          0    0        10\n",
       "18  1953       45   28    9           0          0    0        16\n",
       "19  1949       31   29   11           0          0    0        27"
      ]
     },
     "execution_count": 5,
     "metadata": {},
     "output_type": "execute_result"
    }
   ],
   "source": [
    "# DataFrame ALL\n",
    "df = pd.DataFrame(results, index=None)\n",
    "\n",
    "df[\"Jahr\"] = df['Jahr'].astype(int) \n",
    "#df.set_index('Jahr', inplace=True)\n",
    "\n",
    "df[\"Die Grünen\"] += df[\"Bündnis 90/Die Grünen\"] \n",
    "df.drop(columns=[\"Bündnis 90/Die Grünen\"], inplace=True)\n",
    "df.rename(columns={\"Die Linke. PDS\": \"Die Linke\"}, inplace=True)\n",
    "\n",
    "df_int = df.fillna(0).astype(int)\n",
    "\n",
    "df\n",
    "df_int"
   ]
  },
  {
   "cell_type": "code",
   "execution_count": 6,
   "metadata": {},
   "outputs": [],
   "source": [
    "\n",
    "df_CDU = df[['CDU/CSU']]\n",
    "df_SPD = df[['SPD']]\n",
    "df_FDP = df[['FDP']]\n",
    "df_Die_Grünen = df[['Die Grünen']]\n",
    "df_Die_Linke = df[[\"Die Linke\"]]\n",
    "df_AfD = df[[\"AfD\"]]\n",
    "\n",
    "\n"
   ]
  },
  {
   "cell_type": "code",
   "execution_count": 7,
   "metadata": {},
   "outputs": [
    {
     "data": {
      "text/plain": [
       "\"\\nparty_colors = {\\n        'CDU/CSU': 'black',\\n        'SPD': 'red',\\n        'FDP': 'yellow',\\n        'Die Grünen': 'green',\\n        'Die Linke': 'purple',\\n        'AfD': 'blue',\\n        'Sonstige': 'gray'\\n}\\nplots = []\\n\\nfor jahr in df['Jahr'].unique():\\n    \\n    df_current = df[df['Jahr'] == jahr]\\n\\n    df_melted = df_current.melt('Jahr', var_name='Partei', value_name='Prozent')\\n    df_melted = df_melted[df_melted['Prozent'] != 0]\\n    colors = [party_colors[partei] for partei in df_melted['Partei']]\\n    \\n    plt.figure(figsize=(10, 6))\\n    sns.barplot(x='Partei', y='Prozent', data=df_melted, palette=colors)\\n\\n    plt.title(f'Ergebnisse der Parteien im Jahr {jahr}')\\n    plt.tight_layout()\\n    \\n\\n    plots.append(plt.gcf())\\n\\nfor elem in plots:\\n    elem.show()\\n    \""
      ]
     },
     "execution_count": 7,
     "metadata": {},
     "output_type": "execute_result"
    }
   ],
   "source": [
    "import pandas as pd\n",
    "import seaborn as sns\n",
    "import matplotlib.pyplot as plt\n",
    "\"\"\"\n",
    "party_colors = {\n",
    "        'CDU/CSU': 'black',\n",
    "        'SPD': 'red',\n",
    "        'FDP': 'yellow',\n",
    "        'Die Grünen': 'green',\n",
    "        'Die Linke': 'purple',\n",
    "        'AfD': 'blue',\n",
    "        'Sonstige': 'gray'\n",
    "}\n",
    "plots = []\n",
    "\n",
    "for jahr in df['Jahr'].unique():\n",
    "    \n",
    "    df_current = df[df['Jahr'] == jahr]\n",
    "\n",
    "    df_melted = df_current.melt('Jahr', var_name='Partei', value_name='Prozent')\n",
    "    df_melted = df_melted[df_melted['Prozent'] != 0]\n",
    "    colors = [party_colors[partei] for partei in df_melted['Partei']]\n",
    "    \n",
    "    plt.figure(figsize=(10, 6))\n",
    "    sns.barplot(x='Partei', y='Prozent', data=df_melted, palette=colors)\n",
    "\n",
    "    plt.title(f'Ergebnisse der Parteien im Jahr {jahr}')\n",
    "    plt.tight_layout()\n",
    "    \n",
    "\n",
    "    plots.append(plt.gcf())\n",
    "\n",
    "for elem in plots:\n",
    "    elem.show()\n",
    "    \"\"\"\n"
   ]
  },
  {
   "cell_type": "code",
   "execution_count": 8,
   "metadata": {},
   "outputs": [
    {
     "data": {
      "text/plain": [
       "\"\\nparty_colors = {\\n    'CDU/CSU': 'black',\\n    'SPD': 'red',\\n    'FDP': 'yellow',\\n    'Die Grünen': 'green',\\n    'Die Linke': 'purple',\\n    'AfD': 'blue',\\n    'Sonstige': 'orange'\\n}\\n\\n# Funktion, um die Farbpalette anzupassen\\ndef adjust_colors(df_melted, df_current, df_previous, party_colors):\\n    colors = []\\n    for partei in df_melted['Partei']:\\n        if df_current[partei].values[0] < df_previous[partei].values[0]:\\n            colors.append('gray')\\n        else:\\n            colors.append(party_colors[partei])\\n    return colors\\n\\nplots = []\\n\\ndf_previous = None\\nfor jahr in df['Jahr'].unique():\\n    df_current = df[df['Jahr'] == jahr]\\n\\n    if df_previous is not None:\\n        df_melted = df_current.melt('Jahr', var_name='Partei', value_name='Prozent')\\n        \\n        # Parteien mit 0% entfernen\\n        df_melted = df_melted[df_melted['Prozent'] != 0]\\n        \\n        # Farben basierend auf den Verlusten im Vergleich zum Vorjahr anpassen\\n        colors = adjust_colors(df_melted, df_current, df_previous, party_colors)\\n        \\n        plt.figure(figsize=(10, 6))\\n        sns.barplot(x='Partei', y='Prozent', data=df_melted, palette=colors)\\n        plt.title(f'Ergebnisse der Parteien im Jahr {jahr}')\\n        plt.tight_layout()\\n        \\n        plots.append(plt.gcf())\\n    \\n    df_previous = df_current\\n\\nfor elem in plots:\\n    elem.show()\\n    \""
      ]
     },
     "execution_count": 8,
     "metadata": {},
     "output_type": "execute_result"
    }
   ],
   "source": [
    "# Farben für die Parteien\n",
    "\"\"\"\n",
    "party_colors = {\n",
    "    'CDU/CSU': 'black',\n",
    "    'SPD': 'red',\n",
    "    'FDP': 'yellow',\n",
    "    'Die Grünen': 'green',\n",
    "    'Die Linke': 'purple',\n",
    "    'AfD': 'blue',\n",
    "    'Sonstige': 'orange'\n",
    "}\n",
    "\n",
    "# Funktion, um die Farbpalette anzupassen\n",
    "def adjust_colors(df_melted, df_current, df_previous, party_colors):\n",
    "    colors = []\n",
    "    for partei in df_melted['Partei']:\n",
    "        if df_current[partei].values[0] < df_previous[partei].values[0]:\n",
    "            colors.append('gray')\n",
    "        else:\n",
    "            colors.append(party_colors[partei])\n",
    "    return colors\n",
    "\n",
    "plots = []\n",
    "\n",
    "df_previous = None\n",
    "for jahr in df['Jahr'].unique():\n",
    "    df_current = df[df['Jahr'] == jahr]\n",
    "\n",
    "    if df_previous is not None:\n",
    "        df_melted = df_current.melt('Jahr', var_name='Partei', value_name='Prozent')\n",
    "        \n",
    "        # Parteien mit 0% entfernen\n",
    "        df_melted = df_melted[df_melted['Prozent'] != 0]\n",
    "        \n",
    "        # Farben basierend auf den Verlusten im Vergleich zum Vorjahr anpassen\n",
    "        colors = adjust_colors(df_melted, df_current, df_previous, party_colors)\n",
    "        \n",
    "        plt.figure(figsize=(10, 6))\n",
    "        sns.barplot(x='Partei', y='Prozent', data=df_melted, palette=colors)\n",
    "        plt.title(f'Ergebnisse der Parteien im Jahr {jahr}')\n",
    "        plt.tight_layout()\n",
    "        \n",
    "        plots.append(plt.gcf())\n",
    "    \n",
    "    df_previous = df_current\n",
    "\n",
    "for elem in plots:\n",
    "    elem.show()\n",
    "    \"\"\"\n"
   ]
  },
  {
   "cell_type": "code",
   "execution_count": 9,
   "metadata": {},
   "outputs": [
    {
     "data": {
      "application/vnd.plotly.v1+json": {
       "config": {
        "plotlyServerURL": "https://plot.ly"
       },
       "data": [
        {
         "hovertemplate": "Partei=CDU/CSU<br>Jahr=%{x}<br>Anteil der Stimmen=%{y}<extra></extra>",
         "legendgroup": "CDU/CSU",
         "line": {
          "color": "black",
          "dash": "solid"
         },
         "marker": {
          "symbol": "circle"
         },
         "mode": "lines",
         "name": "CDU/CSU",
         "orientation": "v",
         "showlegend": true,
         "type": "scatter",
         "x": [
          2021,
          2017,
          2013,
          2009,
          2005,
          2002,
          1998,
          1994,
          1990,
          1987,
          1983,
          1980,
          1976,
          1972,
          1969,
          1965,
          1961,
          1957,
          1953,
          1949
         ],
         "xaxis": "x",
         "y": [
          24.1,
          32.9,
          41.5,
          33.8,
          35.2,
          38.5,
          35.2,
          41.5,
          43.8,
          44.3,
          48.8,
          44.5,
          48.6,
          44.9,
          46.1,
          47.6,
          45.3,
          50.2,
          45.2,
          31
         ],
         "yaxis": "y"
        },
        {
         "hovertemplate": "Partei=SPD<br>Jahr=%{x}<br>Anteil der Stimmen=%{y}<extra></extra>",
         "legendgroup": "SPD",
         "line": {
          "color": "red",
          "dash": "solid"
         },
         "marker": {
          "symbol": "circle"
         },
         "mode": "lines",
         "name": "SPD",
         "orientation": "v",
         "showlegend": true,
         "type": "scatter",
         "x": [
          2021,
          2017,
          2013,
          2009,
          2005,
          2002,
          1998,
          1994,
          1990,
          1987,
          1983,
          1980,
          1976,
          1972,
          1969,
          1965,
          1961,
          1957,
          1953,
          1949
         ],
         "xaxis": "x",
         "y": [
          25.7,
          20.5,
          25.7,
          23,
          34.2,
          38.5,
          40.9,
          36.4,
          33.5,
          37,
          38.2,
          42.9,
          42.6,
          45.8,
          42.7,
          39.3,
          36.2,
          31.8,
          28.8,
          29.2
         ],
         "yaxis": "y"
        },
        {
         "hovertemplate": "Partei=FDP<br>Jahr=%{x}<br>Anteil der Stimmen=%{y}<extra></extra>",
         "legendgroup": "FDP",
         "line": {
          "color": "yellow",
          "dash": "solid"
         },
         "marker": {
          "symbol": "circle"
         },
         "mode": "lines",
         "name": "FDP",
         "orientation": "v",
         "showlegend": true,
         "type": "scatter",
         "x": [
          2021,
          2017,
          2013,
          2009,
          2005,
          2002,
          1998,
          1994,
          1990,
          1987,
          1983,
          1980,
          1976,
          1972,
          1969,
          1965,
          1961,
          1957,
          1953,
          1949
         ],
         "xaxis": "x",
         "y": [
          11.5,
          10.7,
          4.8,
          14.6,
          9.8,
          7.4,
          6.2,
          6.9,
          11,
          9.1,
          7,
          10.6,
          7.9,
          8.4,
          5.8,
          9.5,
          12.8,
          7.7,
          9.5,
          11.9
         ],
         "yaxis": "y"
        },
        {
         "hovertemplate": "Partei=Die Grünen<br>Jahr=%{x}<br>Anteil der Stimmen=%{y}<extra></extra>",
         "legendgroup": "Die Grünen",
         "line": {
          "color": "green",
          "dash": "solid"
         },
         "marker": {
          "symbol": "circle"
         },
         "mode": "lines",
         "name": "Die Grünen",
         "orientation": "v",
         "showlegend": true,
         "type": "scatter",
         "x": [
          2021,
          2017,
          2013,
          2009,
          2005,
          2002,
          1998,
          1994,
          1990,
          1987,
          1983,
          1980,
          1976,
          1972,
          1969,
          1965,
          1961,
          1957,
          1953,
          1949
         ],
         "xaxis": "x",
         "y": [
          14.8,
          8.9,
          8.4,
          10.7,
          8.1,
          8.6,
          6.7,
          7.3,
          5,
          8.3,
          5.6,
          1.5,
          0,
          0,
          0,
          0,
          0,
          0,
          0,
          0
         ],
         "yaxis": "y"
        },
        {
         "hovertemplate": "Partei=Die Linke<br>Jahr=%{x}<br>Anteil der Stimmen=%{y}<extra></extra>",
         "legendgroup": "Die Linke",
         "line": {
          "color": "purple",
          "dash": "solid"
         },
         "marker": {
          "symbol": "circle"
         },
         "mode": "lines",
         "name": "Die Linke",
         "orientation": "v",
         "showlegend": true,
         "type": "scatter",
         "x": [
          2021,
          2017,
          2013,
          2009,
          2005,
          2002,
          1998,
          1994,
          1990,
          1987,
          1983,
          1980,
          1976,
          1972,
          1969,
          1965,
          1961,
          1957,
          1953,
          1949
         ],
         "xaxis": "x",
         "y": [
          4.9,
          9.2,
          8.6,
          11.9,
          8.7,
          4,
          5.1,
          4.4,
          2.4,
          0,
          0,
          0,
          0,
          0,
          0,
          0,
          0,
          0,
          0,
          0
         ],
         "yaxis": "y"
        },
        {
         "hovertemplate": "Partei=AfD<br>Jahr=%{x}<br>Anteil der Stimmen=%{y}<extra></extra>",
         "legendgroup": "AfD",
         "line": {
          "color": "blue",
          "dash": "solid"
         },
         "marker": {
          "symbol": "circle"
         },
         "mode": "lines",
         "name": "AfD",
         "orientation": "v",
         "showlegend": true,
         "type": "scatter",
         "x": [
          2021,
          2017,
          2013,
          2009,
          2005,
          2002,
          1998,
          1994,
          1990,
          1987,
          1983,
          1980,
          1976,
          1972,
          1969,
          1965,
          1961,
          1957,
          1953,
          1949
         ],
         "xaxis": "x",
         "y": [
          10.3,
          12.6,
          4.7,
          0,
          0,
          0,
          0,
          0,
          0,
          0,
          0,
          0,
          0,
          0,
          0,
          0,
          0,
          0,
          0,
          0
         ],
         "yaxis": "y"
        },
        {
         "hovertemplate": "Partei=Sonstige<br>Jahr=%{x}<br>Anteil der Stimmen=%{y}<extra></extra>",
         "legendgroup": "Sonstige",
         "line": {
          "color": "orange",
          "dash": "solid"
         },
         "marker": {
          "symbol": "circle"
         },
         "mode": "lines",
         "name": "Sonstige",
         "orientation": "v",
         "showlegend": true,
         "type": "scatter",
         "x": [
          2021,
          2017,
          2013,
          2009,
          2005,
          2002,
          1998,
          1994,
          1990,
          1987,
          1983,
          1980,
          1976,
          1972,
          1969,
          1965,
          1961,
          1957,
          1953,
          1949
         ],
         "xaxis": "x",
         "y": [
          8.7,
          5,
          6.3,
          6,
          4,
          3,
          5.9,
          3.5,
          4.3,
          1.3,
          0.4,
          0.5,
          0.9,
          0.9,
          5.5,
          3.6,
          5.7,
          10.5,
          16.5,
          27.9
         ],
         "yaxis": "y"
        }
       ],
       "layout": {
        "clickmode": "event+select",
        "legend": {
         "title": {
          "text": "Partei"
         },
         "tracegroupgap": 0
        },
        "template": {
         "data": {
          "bar": [
           {
            "error_x": {
             "color": "#2a3f5f"
            },
            "error_y": {
             "color": "#2a3f5f"
            },
            "marker": {
             "line": {
              "color": "#E5ECF6",
              "width": 0.5
             },
             "pattern": {
              "fillmode": "overlay",
              "size": 10,
              "solidity": 0.2
             }
            },
            "type": "bar"
           }
          ],
          "barpolar": [
           {
            "marker": {
             "line": {
              "color": "#E5ECF6",
              "width": 0.5
             },
             "pattern": {
              "fillmode": "overlay",
              "size": 10,
              "solidity": 0.2
             }
            },
            "type": "barpolar"
           }
          ],
          "carpet": [
           {
            "aaxis": {
             "endlinecolor": "#2a3f5f",
             "gridcolor": "white",
             "linecolor": "white",
             "minorgridcolor": "white",
             "startlinecolor": "#2a3f5f"
            },
            "baxis": {
             "endlinecolor": "#2a3f5f",
             "gridcolor": "white",
             "linecolor": "white",
             "minorgridcolor": "white",
             "startlinecolor": "#2a3f5f"
            },
            "type": "carpet"
           }
          ],
          "choropleth": [
           {
            "colorbar": {
             "outlinewidth": 0,
             "ticks": ""
            },
            "type": "choropleth"
           }
          ],
          "contour": [
           {
            "colorbar": {
             "outlinewidth": 0,
             "ticks": ""
            },
            "colorscale": [
             [
              0,
              "#0d0887"
             ],
             [
              0.1111111111111111,
              "#46039f"
             ],
             [
              0.2222222222222222,
              "#7201a8"
             ],
             [
              0.3333333333333333,
              "#9c179e"
             ],
             [
              0.4444444444444444,
              "#bd3786"
             ],
             [
              0.5555555555555556,
              "#d8576b"
             ],
             [
              0.6666666666666666,
              "#ed7953"
             ],
             [
              0.7777777777777778,
              "#fb9f3a"
             ],
             [
              0.8888888888888888,
              "#fdca26"
             ],
             [
              1,
              "#f0f921"
             ]
            ],
            "type": "contour"
           }
          ],
          "contourcarpet": [
           {
            "colorbar": {
             "outlinewidth": 0,
             "ticks": ""
            },
            "type": "contourcarpet"
           }
          ],
          "heatmap": [
           {
            "colorbar": {
             "outlinewidth": 0,
             "ticks": ""
            },
            "colorscale": [
             [
              0,
              "#0d0887"
             ],
             [
              0.1111111111111111,
              "#46039f"
             ],
             [
              0.2222222222222222,
              "#7201a8"
             ],
             [
              0.3333333333333333,
              "#9c179e"
             ],
             [
              0.4444444444444444,
              "#bd3786"
             ],
             [
              0.5555555555555556,
              "#d8576b"
             ],
             [
              0.6666666666666666,
              "#ed7953"
             ],
             [
              0.7777777777777778,
              "#fb9f3a"
             ],
             [
              0.8888888888888888,
              "#fdca26"
             ],
             [
              1,
              "#f0f921"
             ]
            ],
            "type": "heatmap"
           }
          ],
          "heatmapgl": [
           {
            "colorbar": {
             "outlinewidth": 0,
             "ticks": ""
            },
            "colorscale": [
             [
              0,
              "#0d0887"
             ],
             [
              0.1111111111111111,
              "#46039f"
             ],
             [
              0.2222222222222222,
              "#7201a8"
             ],
             [
              0.3333333333333333,
              "#9c179e"
             ],
             [
              0.4444444444444444,
              "#bd3786"
             ],
             [
              0.5555555555555556,
              "#d8576b"
             ],
             [
              0.6666666666666666,
              "#ed7953"
             ],
             [
              0.7777777777777778,
              "#fb9f3a"
             ],
             [
              0.8888888888888888,
              "#fdca26"
             ],
             [
              1,
              "#f0f921"
             ]
            ],
            "type": "heatmapgl"
           }
          ],
          "histogram": [
           {
            "marker": {
             "pattern": {
              "fillmode": "overlay",
              "size": 10,
              "solidity": 0.2
             }
            },
            "type": "histogram"
           }
          ],
          "histogram2d": [
           {
            "colorbar": {
             "outlinewidth": 0,
             "ticks": ""
            },
            "colorscale": [
             [
              0,
              "#0d0887"
             ],
             [
              0.1111111111111111,
              "#46039f"
             ],
             [
              0.2222222222222222,
              "#7201a8"
             ],
             [
              0.3333333333333333,
              "#9c179e"
             ],
             [
              0.4444444444444444,
              "#bd3786"
             ],
             [
              0.5555555555555556,
              "#d8576b"
             ],
             [
              0.6666666666666666,
              "#ed7953"
             ],
             [
              0.7777777777777778,
              "#fb9f3a"
             ],
             [
              0.8888888888888888,
              "#fdca26"
             ],
             [
              1,
              "#f0f921"
             ]
            ],
            "type": "histogram2d"
           }
          ],
          "histogram2dcontour": [
           {
            "colorbar": {
             "outlinewidth": 0,
             "ticks": ""
            },
            "colorscale": [
             [
              0,
              "#0d0887"
             ],
             [
              0.1111111111111111,
              "#46039f"
             ],
             [
              0.2222222222222222,
              "#7201a8"
             ],
             [
              0.3333333333333333,
              "#9c179e"
             ],
             [
              0.4444444444444444,
              "#bd3786"
             ],
             [
              0.5555555555555556,
              "#d8576b"
             ],
             [
              0.6666666666666666,
              "#ed7953"
             ],
             [
              0.7777777777777778,
              "#fb9f3a"
             ],
             [
              0.8888888888888888,
              "#fdca26"
             ],
             [
              1,
              "#f0f921"
             ]
            ],
            "type": "histogram2dcontour"
           }
          ],
          "mesh3d": [
           {
            "colorbar": {
             "outlinewidth": 0,
             "ticks": ""
            },
            "type": "mesh3d"
           }
          ],
          "parcoords": [
           {
            "line": {
             "colorbar": {
              "outlinewidth": 0,
              "ticks": ""
             }
            },
            "type": "parcoords"
           }
          ],
          "pie": [
           {
            "automargin": true,
            "type": "pie"
           }
          ],
          "scatter": [
           {
            "fillpattern": {
             "fillmode": "overlay",
             "size": 10,
             "solidity": 0.2
            },
            "type": "scatter"
           }
          ],
          "scatter3d": [
           {
            "line": {
             "colorbar": {
              "outlinewidth": 0,
              "ticks": ""
             }
            },
            "marker": {
             "colorbar": {
              "outlinewidth": 0,
              "ticks": ""
             }
            },
            "type": "scatter3d"
           }
          ],
          "scattercarpet": [
           {
            "marker": {
             "colorbar": {
              "outlinewidth": 0,
              "ticks": ""
             }
            },
            "type": "scattercarpet"
           }
          ],
          "scattergeo": [
           {
            "marker": {
             "colorbar": {
              "outlinewidth": 0,
              "ticks": ""
             }
            },
            "type": "scattergeo"
           }
          ],
          "scattergl": [
           {
            "marker": {
             "colorbar": {
              "outlinewidth": 0,
              "ticks": ""
             }
            },
            "type": "scattergl"
           }
          ],
          "scattermapbox": [
           {
            "marker": {
             "colorbar": {
              "outlinewidth": 0,
              "ticks": ""
             }
            },
            "type": "scattermapbox"
           }
          ],
          "scatterpolar": [
           {
            "marker": {
             "colorbar": {
              "outlinewidth": 0,
              "ticks": ""
             }
            },
            "type": "scatterpolar"
           }
          ],
          "scatterpolargl": [
           {
            "marker": {
             "colorbar": {
              "outlinewidth": 0,
              "ticks": ""
             }
            },
            "type": "scatterpolargl"
           }
          ],
          "scatterternary": [
           {
            "marker": {
             "colorbar": {
              "outlinewidth": 0,
              "ticks": ""
             }
            },
            "type": "scatterternary"
           }
          ],
          "surface": [
           {
            "colorbar": {
             "outlinewidth": 0,
             "ticks": ""
            },
            "colorscale": [
             [
              0,
              "#0d0887"
             ],
             [
              0.1111111111111111,
              "#46039f"
             ],
             [
              0.2222222222222222,
              "#7201a8"
             ],
             [
              0.3333333333333333,
              "#9c179e"
             ],
             [
              0.4444444444444444,
              "#bd3786"
             ],
             [
              0.5555555555555556,
              "#d8576b"
             ],
             [
              0.6666666666666666,
              "#ed7953"
             ],
             [
              0.7777777777777778,
              "#fb9f3a"
             ],
             [
              0.8888888888888888,
              "#fdca26"
             ],
             [
              1,
              "#f0f921"
             ]
            ],
            "type": "surface"
           }
          ],
          "table": [
           {
            "cells": {
             "fill": {
              "color": "#EBF0F8"
             },
             "line": {
              "color": "white"
             }
            },
            "header": {
             "fill": {
              "color": "#C8D4E3"
             },
             "line": {
              "color": "white"
             }
            },
            "type": "table"
           }
          ]
         },
         "layout": {
          "annotationdefaults": {
           "arrowcolor": "#2a3f5f",
           "arrowhead": 0,
           "arrowwidth": 1
          },
          "autotypenumbers": "strict",
          "coloraxis": {
           "colorbar": {
            "outlinewidth": 0,
            "ticks": ""
           }
          },
          "colorscale": {
           "diverging": [
            [
             0,
             "#8e0152"
            ],
            [
             0.1,
             "#c51b7d"
            ],
            [
             0.2,
             "#de77ae"
            ],
            [
             0.3,
             "#f1b6da"
            ],
            [
             0.4,
             "#fde0ef"
            ],
            [
             0.5,
             "#f7f7f7"
            ],
            [
             0.6,
             "#e6f5d0"
            ],
            [
             0.7,
             "#b8e186"
            ],
            [
             0.8,
             "#7fbc41"
            ],
            [
             0.9,
             "#4d9221"
            ],
            [
             1,
             "#276419"
            ]
           ],
           "sequential": [
            [
             0,
             "#0d0887"
            ],
            [
             0.1111111111111111,
             "#46039f"
            ],
            [
             0.2222222222222222,
             "#7201a8"
            ],
            [
             0.3333333333333333,
             "#9c179e"
            ],
            [
             0.4444444444444444,
             "#bd3786"
            ],
            [
             0.5555555555555556,
             "#d8576b"
            ],
            [
             0.6666666666666666,
             "#ed7953"
            ],
            [
             0.7777777777777778,
             "#fb9f3a"
            ],
            [
             0.8888888888888888,
             "#fdca26"
            ],
            [
             1,
             "#f0f921"
            ]
           ],
           "sequentialminus": [
            [
             0,
             "#0d0887"
            ],
            [
             0.1111111111111111,
             "#46039f"
            ],
            [
             0.2222222222222222,
             "#7201a8"
            ],
            [
             0.3333333333333333,
             "#9c179e"
            ],
            [
             0.4444444444444444,
             "#bd3786"
            ],
            [
             0.5555555555555556,
             "#d8576b"
            ],
            [
             0.6666666666666666,
             "#ed7953"
            ],
            [
             0.7777777777777778,
             "#fb9f3a"
            ],
            [
             0.8888888888888888,
             "#fdca26"
            ],
            [
             1,
             "#f0f921"
            ]
           ]
          },
          "colorway": [
           "#636efa",
           "#EF553B",
           "#00cc96",
           "#ab63fa",
           "#FFA15A",
           "#19d3f3",
           "#FF6692",
           "#B6E880",
           "#FF97FF",
           "#FECB52"
          ],
          "font": {
           "color": "#2a3f5f"
          },
          "geo": {
           "bgcolor": "white",
           "lakecolor": "white",
           "landcolor": "#E5ECF6",
           "showlakes": true,
           "showland": true,
           "subunitcolor": "white"
          },
          "hoverlabel": {
           "align": "left"
          },
          "hovermode": "closest",
          "mapbox": {
           "style": "light"
          },
          "paper_bgcolor": "white",
          "plot_bgcolor": "#E5ECF6",
          "polar": {
           "angularaxis": {
            "gridcolor": "white",
            "linecolor": "white",
            "ticks": ""
           },
           "bgcolor": "#E5ECF6",
           "radialaxis": {
            "gridcolor": "white",
            "linecolor": "white",
            "ticks": ""
           }
          },
          "scene": {
           "xaxis": {
            "backgroundcolor": "#E5ECF6",
            "gridcolor": "white",
            "gridwidth": 2,
            "linecolor": "white",
            "showbackground": true,
            "ticks": "",
            "zerolinecolor": "white"
           },
           "yaxis": {
            "backgroundcolor": "#E5ECF6",
            "gridcolor": "white",
            "gridwidth": 2,
            "linecolor": "white",
            "showbackground": true,
            "ticks": "",
            "zerolinecolor": "white"
           },
           "zaxis": {
            "backgroundcolor": "#E5ECF6",
            "gridcolor": "white",
            "gridwidth": 2,
            "linecolor": "white",
            "showbackground": true,
            "ticks": "",
            "zerolinecolor": "white"
           }
          },
          "shapedefaults": {
           "line": {
            "color": "#2a3f5f"
           }
          },
          "ternary": {
           "aaxis": {
            "gridcolor": "white",
            "linecolor": "white",
            "ticks": ""
           },
           "baxis": {
            "gridcolor": "white",
            "linecolor": "white",
            "ticks": ""
           },
           "bgcolor": "#E5ECF6",
           "caxis": {
            "gridcolor": "white",
            "linecolor": "white",
            "ticks": ""
           }
          },
          "title": {
           "x": 0.05
          },
          "xaxis": {
           "automargin": true,
           "gridcolor": "white",
           "linecolor": "white",
           "ticks": "",
           "title": {
            "standoff": 15
           },
           "zerolinecolor": "white",
           "zerolinewidth": 2
          },
          "yaxis": {
           "automargin": true,
           "gridcolor": "white",
           "linecolor": "white",
           "ticks": "",
           "title": {
            "standoff": 15
           },
           "zerolinecolor": "white",
           "zerolinewidth": 2
          }
         }
        },
        "title": {
         "text": "Bundeswahlen"
        },
        "xaxis": {
         "anchor": "y",
         "domain": [
          0,
          1
         ],
         "dtick": 5,
         "tick0": 1949,
         "title": {
          "text": "Jahr"
         }
        },
        "yaxis": {
         "anchor": "x",
         "domain": [
          0,
          1
         ],
         "title": {
          "text": "Anteil der Stimmen"
         }
        }
       }
      }
     },
     "metadata": {},
     "output_type": "display_data"
    }
   ],
   "source": [
    "import plotly.express as px\n",
    "df_long = df.reset_index().melt(id_vars='Jahr')\n",
    "df_long.columns = ['Jahr', 'Partei', 'Anteil der Stimmen']\n",
    "df_long.drop(df_long[df_long['Partei'] == 'index'].index, inplace=True)\n",
    "partei_farben = {\n",
    "    'CDU/CSU': 'black',\n",
    "    'SPD': 'red',\n",
    "    'FDP': 'yellow',\n",
    "    'Die Grünen': 'green',\n",
    "    'Die Linke': 'purple',\n",
    "    'AfD': 'blue',\n",
    "    'Sonstige': 'orange'\n",
    "}\n",
    "\n",
    "# Ihr DataFrame und partei_farben müssen definiert sein\n",
    "# df_long = ...\n",
    "# partei_farben = ...\n",
    "\n",
    "fig = px.line(df_long, x='Jahr', y='Anteil der Stimmen', color='Partei', title='Bundeswahlen', color_discrete_map=partei_farben)\n",
    "\n",
    "# Aktualisiere das Layout, um die Legende rechts außen zu positionieren, die X-Achse anzupassen und clickmode zu setzen\n",
    "fig.update_layout(\n",
    "    legend_title='Partei',\n",
    "    xaxis_title='Jahr',\n",
    "    yaxis_title='Anteil der Stimmen',\n",
    "    xaxis=dict(\n",
    "        dtick=5,  # Setzt die Markierungen auf der X-Achse in 5-Jahres-Schritten\n",
    "        tick0=1949  # Startpunkt der Markierungen (optional, für präzise Kontrolle)\n",
    "    ),\n",
    "    clickmode='event+select'  # Setzt den clickmode für interaktive Auswahl\n",
    ")\n",
    "fig.write_html(\"Sitzverteilung_Bundeswahl_gesamt.html\")\n",
    "# Zeige das Diagramm an\n",
    "fig.show()"
   ]
  },
  {
   "cell_type": "code",
   "execution_count": 10,
   "metadata": {},
   "outputs": [
    {
     "data": {
      "text/html": [
       "<div>\n",
       "<style scoped>\n",
       "    .dataframe tbody tr th:only-of-type {\n",
       "        vertical-align: middle;\n",
       "    }\n",
       "\n",
       "    .dataframe tbody tr th {\n",
       "        vertical-align: top;\n",
       "    }\n",
       "\n",
       "    .dataframe thead th {\n",
       "        text-align: right;\n",
       "    }\n",
       "</style>\n",
       "<table border=\"1\" class=\"dataframe\">\n",
       "  <thead>\n",
       "    <tr style=\"text-align: right;\">\n",
       "      <th></th>\n",
       "      <th>Jahr</th>\n",
       "      <th>CDU/CSU</th>\n",
       "      <th>SPD</th>\n",
       "      <th>FDP</th>\n",
       "      <th>Die Grünen</th>\n",
       "      <th>Die Linke</th>\n",
       "      <th>AfD</th>\n",
       "      <th>Sonstige</th>\n",
       "    </tr>\n",
       "  </thead>\n",
       "  <tbody>\n",
       "    <tr>\n",
       "      <th>0</th>\n",
       "      <td>2021</td>\n",
       "      <td>24.1</td>\n",
       "      <td>25.7</td>\n",
       "      <td>11.5</td>\n",
       "      <td>14.8</td>\n",
       "      <td>4.9</td>\n",
       "      <td>10.3</td>\n",
       "      <td>8.7</td>\n",
       "    </tr>\n",
       "    <tr>\n",
       "      <th>1</th>\n",
       "      <td>2017</td>\n",
       "      <td>32.9</td>\n",
       "      <td>20.5</td>\n",
       "      <td>10.7</td>\n",
       "      <td>8.9</td>\n",
       "      <td>9.2</td>\n",
       "      <td>12.6</td>\n",
       "      <td>5.0</td>\n",
       "    </tr>\n",
       "    <tr>\n",
       "      <th>2</th>\n",
       "      <td>2013</td>\n",
       "      <td>41.5</td>\n",
       "      <td>25.7</td>\n",
       "      <td>4.8</td>\n",
       "      <td>8.4</td>\n",
       "      <td>8.6</td>\n",
       "      <td>4.7</td>\n",
       "      <td>6.3</td>\n",
       "    </tr>\n",
       "    <tr>\n",
       "      <th>3</th>\n",
       "      <td>2009</td>\n",
       "      <td>33.8</td>\n",
       "      <td>23.0</td>\n",
       "      <td>14.6</td>\n",
       "      <td>10.7</td>\n",
       "      <td>11.9</td>\n",
       "      <td>0.0</td>\n",
       "      <td>6.0</td>\n",
       "    </tr>\n",
       "    <tr>\n",
       "      <th>4</th>\n",
       "      <td>2005</td>\n",
       "      <td>35.2</td>\n",
       "      <td>34.2</td>\n",
       "      <td>9.8</td>\n",
       "      <td>8.1</td>\n",
       "      <td>8.7</td>\n",
       "      <td>0.0</td>\n",
       "      <td>4.0</td>\n",
       "    </tr>\n",
       "    <tr>\n",
       "      <th>5</th>\n",
       "      <td>2002</td>\n",
       "      <td>38.5</td>\n",
       "      <td>38.5</td>\n",
       "      <td>7.4</td>\n",
       "      <td>8.6</td>\n",
       "      <td>4.0</td>\n",
       "      <td>0.0</td>\n",
       "      <td>3.0</td>\n",
       "    </tr>\n",
       "    <tr>\n",
       "      <th>6</th>\n",
       "      <td>1998</td>\n",
       "      <td>35.2</td>\n",
       "      <td>40.9</td>\n",
       "      <td>6.2</td>\n",
       "      <td>6.7</td>\n",
       "      <td>5.1</td>\n",
       "      <td>0.0</td>\n",
       "      <td>5.9</td>\n",
       "    </tr>\n",
       "    <tr>\n",
       "      <th>7</th>\n",
       "      <td>1994</td>\n",
       "      <td>41.5</td>\n",
       "      <td>36.4</td>\n",
       "      <td>6.9</td>\n",
       "      <td>7.3</td>\n",
       "      <td>4.4</td>\n",
       "      <td>0.0</td>\n",
       "      <td>3.5</td>\n",
       "    </tr>\n",
       "    <tr>\n",
       "      <th>8</th>\n",
       "      <td>1990</td>\n",
       "      <td>43.8</td>\n",
       "      <td>33.5</td>\n",
       "      <td>11.0</td>\n",
       "      <td>5.0</td>\n",
       "      <td>2.4</td>\n",
       "      <td>0.0</td>\n",
       "      <td>4.3</td>\n",
       "    </tr>\n",
       "    <tr>\n",
       "      <th>9</th>\n",
       "      <td>1987</td>\n",
       "      <td>44.3</td>\n",
       "      <td>37.0</td>\n",
       "      <td>9.1</td>\n",
       "      <td>8.3</td>\n",
       "      <td>0.0</td>\n",
       "      <td>0.0</td>\n",
       "      <td>1.3</td>\n",
       "    </tr>\n",
       "    <tr>\n",
       "      <th>10</th>\n",
       "      <td>1983</td>\n",
       "      <td>48.8</td>\n",
       "      <td>38.2</td>\n",
       "      <td>7.0</td>\n",
       "      <td>5.6</td>\n",
       "      <td>0.0</td>\n",
       "      <td>0.0</td>\n",
       "      <td>0.4</td>\n",
       "    </tr>\n",
       "    <tr>\n",
       "      <th>11</th>\n",
       "      <td>1980</td>\n",
       "      <td>44.5</td>\n",
       "      <td>42.9</td>\n",
       "      <td>10.6</td>\n",
       "      <td>1.5</td>\n",
       "      <td>0.0</td>\n",
       "      <td>0.0</td>\n",
       "      <td>0.5</td>\n",
       "    </tr>\n",
       "    <tr>\n",
       "      <th>12</th>\n",
       "      <td>1976</td>\n",
       "      <td>48.6</td>\n",
       "      <td>42.6</td>\n",
       "      <td>7.9</td>\n",
       "      <td>0.0</td>\n",
       "      <td>0.0</td>\n",
       "      <td>0.0</td>\n",
       "      <td>0.9</td>\n",
       "    </tr>\n",
       "    <tr>\n",
       "      <th>13</th>\n",
       "      <td>1972</td>\n",
       "      <td>44.9</td>\n",
       "      <td>45.8</td>\n",
       "      <td>8.4</td>\n",
       "      <td>0.0</td>\n",
       "      <td>0.0</td>\n",
       "      <td>0.0</td>\n",
       "      <td>0.9</td>\n",
       "    </tr>\n",
       "    <tr>\n",
       "      <th>14</th>\n",
       "      <td>1969</td>\n",
       "      <td>46.1</td>\n",
       "      <td>42.7</td>\n",
       "      <td>5.8</td>\n",
       "      <td>0.0</td>\n",
       "      <td>0.0</td>\n",
       "      <td>0.0</td>\n",
       "      <td>5.5</td>\n",
       "    </tr>\n",
       "    <tr>\n",
       "      <th>15</th>\n",
       "      <td>1965</td>\n",
       "      <td>47.6</td>\n",
       "      <td>39.3</td>\n",
       "      <td>9.5</td>\n",
       "      <td>0.0</td>\n",
       "      <td>0.0</td>\n",
       "      <td>0.0</td>\n",
       "      <td>3.6</td>\n",
       "    </tr>\n",
       "    <tr>\n",
       "      <th>16</th>\n",
       "      <td>1961</td>\n",
       "      <td>45.3</td>\n",
       "      <td>36.2</td>\n",
       "      <td>12.8</td>\n",
       "      <td>0.0</td>\n",
       "      <td>0.0</td>\n",
       "      <td>0.0</td>\n",
       "      <td>5.7</td>\n",
       "    </tr>\n",
       "    <tr>\n",
       "      <th>17</th>\n",
       "      <td>1957</td>\n",
       "      <td>50.2</td>\n",
       "      <td>31.8</td>\n",
       "      <td>7.7</td>\n",
       "      <td>0.0</td>\n",
       "      <td>0.0</td>\n",
       "      <td>0.0</td>\n",
       "      <td>10.5</td>\n",
       "    </tr>\n",
       "    <tr>\n",
       "      <th>18</th>\n",
       "      <td>1953</td>\n",
       "      <td>45.2</td>\n",
       "      <td>28.8</td>\n",
       "      <td>9.5</td>\n",
       "      <td>0.0</td>\n",
       "      <td>0.0</td>\n",
       "      <td>0.0</td>\n",
       "      <td>16.5</td>\n",
       "    </tr>\n",
       "    <tr>\n",
       "      <th>19</th>\n",
       "      <td>1949</td>\n",
       "      <td>31.0</td>\n",
       "      <td>29.2</td>\n",
       "      <td>11.9</td>\n",
       "      <td>0.0</td>\n",
       "      <td>0.0</td>\n",
       "      <td>0.0</td>\n",
       "      <td>27.9</td>\n",
       "    </tr>\n",
       "  </tbody>\n",
       "</table>\n",
       "</div>"
      ],
      "text/plain": [
       "    Jahr  CDU/CSU   SPD   FDP  Die Grünen  Die Linke   AfD  Sonstige\n",
       "0   2021     24.1  25.7  11.5        14.8        4.9  10.3       8.7\n",
       "1   2017     32.9  20.5  10.7         8.9        9.2  12.6       5.0\n",
       "2   2013     41.5  25.7   4.8         8.4        8.6   4.7       6.3\n",
       "3   2009     33.8  23.0  14.6        10.7       11.9   0.0       6.0\n",
       "4   2005     35.2  34.2   9.8         8.1        8.7   0.0       4.0\n",
       "5   2002     38.5  38.5   7.4         8.6        4.0   0.0       3.0\n",
       "6   1998     35.2  40.9   6.2         6.7        5.1   0.0       5.9\n",
       "7   1994     41.5  36.4   6.9         7.3        4.4   0.0       3.5\n",
       "8   1990     43.8  33.5  11.0         5.0        2.4   0.0       4.3\n",
       "9   1987     44.3  37.0   9.1         8.3        0.0   0.0       1.3\n",
       "10  1983     48.8  38.2   7.0         5.6        0.0   0.0       0.4\n",
       "11  1980     44.5  42.9  10.6         1.5        0.0   0.0       0.5\n",
       "12  1976     48.6  42.6   7.9         0.0        0.0   0.0       0.9\n",
       "13  1972     44.9  45.8   8.4         0.0        0.0   0.0       0.9\n",
       "14  1969     46.1  42.7   5.8         0.0        0.0   0.0       5.5\n",
       "15  1965     47.6  39.3   9.5         0.0        0.0   0.0       3.6\n",
       "16  1961     45.3  36.2  12.8         0.0        0.0   0.0       5.7\n",
       "17  1957     50.2  31.8   7.7         0.0        0.0   0.0      10.5\n",
       "18  1953     45.2  28.8   9.5         0.0        0.0   0.0      16.5\n",
       "19  1949     31.0  29.2  11.9         0.0        0.0   0.0      27.9"
      ]
     },
     "execution_count": 10,
     "metadata": {},
     "output_type": "execute_result"
    }
   ],
   "source": [
    "\n",
    "df"
   ]
  },
  {
   "cell_type": "code",
   "execution_count": null,
   "metadata": {},
   "outputs": [],
   "source": []
  },
  {
   "cell_type": "code",
   "execution_count": 11,
   "metadata": {},
   "outputs": [
    {
     "data": {
      "application/vnd.plotly.v1+json": {
       "config": {
        "plotlyServerURL": "https://plot.ly"
       },
       "data": [
        {
         "hovertemplate": "Partei=Die Grünen<br>Jahr=%{x}<br>Anteil der Stimmen=%{y}<extra></extra>",
         "legendgroup": "Die Grünen",
         "line": {
          "color": "green",
          "dash": "solid"
         },
         "marker": {
          "symbol": "circle"
         },
         "mode": "lines+markers",
         "name": "Die Grünen",
         "orientation": "v",
         "showlegend": true,
         "type": "scatter",
         "x": [
          2021,
          2017,
          2013,
          2009
         ],
         "xaxis": "x",
         "y": [
          14.8,
          8.9,
          8.4,
          10.7
         ],
         "yaxis": "y"
        },
        {
         "hovertemplate": "Partei=AfD<br>Jahr=%{x}<br>Anteil der Stimmen=%{y}<extra></extra>",
         "legendgroup": "AfD",
         "line": {
          "color": "blue",
          "dash": "solid"
         },
         "marker": {
          "symbol": "circle"
         },
         "mode": "lines+markers",
         "name": "AfD",
         "orientation": "v",
         "showlegend": true,
         "type": "scatter",
         "x": [
          2021,
          2017,
          2013,
          2009
         ],
         "xaxis": "x",
         "y": [
          10.3,
          12.6,
          4.7,
          0
         ],
         "yaxis": "y"
        }
       ],
       "layout": {
        "legend": {
         "title": {
          "text": "Partei"
         },
         "tracegroupgap": 0
        },
        "showlegend": false,
        "template": {
         "data": {
          "bar": [
           {
            "error_x": {
             "color": "#2a3f5f"
            },
            "error_y": {
             "color": "#2a3f5f"
            },
            "marker": {
             "line": {
              "color": "#E5ECF6",
              "width": 0.5
             },
             "pattern": {
              "fillmode": "overlay",
              "size": 10,
              "solidity": 0.2
             }
            },
            "type": "bar"
           }
          ],
          "barpolar": [
           {
            "marker": {
             "line": {
              "color": "#E5ECF6",
              "width": 0.5
             },
             "pattern": {
              "fillmode": "overlay",
              "size": 10,
              "solidity": 0.2
             }
            },
            "type": "barpolar"
           }
          ],
          "carpet": [
           {
            "aaxis": {
             "endlinecolor": "#2a3f5f",
             "gridcolor": "white",
             "linecolor": "white",
             "minorgridcolor": "white",
             "startlinecolor": "#2a3f5f"
            },
            "baxis": {
             "endlinecolor": "#2a3f5f",
             "gridcolor": "white",
             "linecolor": "white",
             "minorgridcolor": "white",
             "startlinecolor": "#2a3f5f"
            },
            "type": "carpet"
           }
          ],
          "choropleth": [
           {
            "colorbar": {
             "outlinewidth": 0,
             "ticks": ""
            },
            "type": "choropleth"
           }
          ],
          "contour": [
           {
            "colorbar": {
             "outlinewidth": 0,
             "ticks": ""
            },
            "colorscale": [
             [
              0,
              "#0d0887"
             ],
             [
              0.1111111111111111,
              "#46039f"
             ],
             [
              0.2222222222222222,
              "#7201a8"
             ],
             [
              0.3333333333333333,
              "#9c179e"
             ],
             [
              0.4444444444444444,
              "#bd3786"
             ],
             [
              0.5555555555555556,
              "#d8576b"
             ],
             [
              0.6666666666666666,
              "#ed7953"
             ],
             [
              0.7777777777777778,
              "#fb9f3a"
             ],
             [
              0.8888888888888888,
              "#fdca26"
             ],
             [
              1,
              "#f0f921"
             ]
            ],
            "type": "contour"
           }
          ],
          "contourcarpet": [
           {
            "colorbar": {
             "outlinewidth": 0,
             "ticks": ""
            },
            "type": "contourcarpet"
           }
          ],
          "heatmap": [
           {
            "colorbar": {
             "outlinewidth": 0,
             "ticks": ""
            },
            "colorscale": [
             [
              0,
              "#0d0887"
             ],
             [
              0.1111111111111111,
              "#46039f"
             ],
             [
              0.2222222222222222,
              "#7201a8"
             ],
             [
              0.3333333333333333,
              "#9c179e"
             ],
             [
              0.4444444444444444,
              "#bd3786"
             ],
             [
              0.5555555555555556,
              "#d8576b"
             ],
             [
              0.6666666666666666,
              "#ed7953"
             ],
             [
              0.7777777777777778,
              "#fb9f3a"
             ],
             [
              0.8888888888888888,
              "#fdca26"
             ],
             [
              1,
              "#f0f921"
             ]
            ],
            "type": "heatmap"
           }
          ],
          "heatmapgl": [
           {
            "colorbar": {
             "outlinewidth": 0,
             "ticks": ""
            },
            "colorscale": [
             [
              0,
              "#0d0887"
             ],
             [
              0.1111111111111111,
              "#46039f"
             ],
             [
              0.2222222222222222,
              "#7201a8"
             ],
             [
              0.3333333333333333,
              "#9c179e"
             ],
             [
              0.4444444444444444,
              "#bd3786"
             ],
             [
              0.5555555555555556,
              "#d8576b"
             ],
             [
              0.6666666666666666,
              "#ed7953"
             ],
             [
              0.7777777777777778,
              "#fb9f3a"
             ],
             [
              0.8888888888888888,
              "#fdca26"
             ],
             [
              1,
              "#f0f921"
             ]
            ],
            "type": "heatmapgl"
           }
          ],
          "histogram": [
           {
            "marker": {
             "pattern": {
              "fillmode": "overlay",
              "size": 10,
              "solidity": 0.2
             }
            },
            "type": "histogram"
           }
          ],
          "histogram2d": [
           {
            "colorbar": {
             "outlinewidth": 0,
             "ticks": ""
            },
            "colorscale": [
             [
              0,
              "#0d0887"
             ],
             [
              0.1111111111111111,
              "#46039f"
             ],
             [
              0.2222222222222222,
              "#7201a8"
             ],
             [
              0.3333333333333333,
              "#9c179e"
             ],
             [
              0.4444444444444444,
              "#bd3786"
             ],
             [
              0.5555555555555556,
              "#d8576b"
             ],
             [
              0.6666666666666666,
              "#ed7953"
             ],
             [
              0.7777777777777778,
              "#fb9f3a"
             ],
             [
              0.8888888888888888,
              "#fdca26"
             ],
             [
              1,
              "#f0f921"
             ]
            ],
            "type": "histogram2d"
           }
          ],
          "histogram2dcontour": [
           {
            "colorbar": {
             "outlinewidth": 0,
             "ticks": ""
            },
            "colorscale": [
             [
              0,
              "#0d0887"
             ],
             [
              0.1111111111111111,
              "#46039f"
             ],
             [
              0.2222222222222222,
              "#7201a8"
             ],
             [
              0.3333333333333333,
              "#9c179e"
             ],
             [
              0.4444444444444444,
              "#bd3786"
             ],
             [
              0.5555555555555556,
              "#d8576b"
             ],
             [
              0.6666666666666666,
              "#ed7953"
             ],
             [
              0.7777777777777778,
              "#fb9f3a"
             ],
             [
              0.8888888888888888,
              "#fdca26"
             ],
             [
              1,
              "#f0f921"
             ]
            ],
            "type": "histogram2dcontour"
           }
          ],
          "mesh3d": [
           {
            "colorbar": {
             "outlinewidth": 0,
             "ticks": ""
            },
            "type": "mesh3d"
           }
          ],
          "parcoords": [
           {
            "line": {
             "colorbar": {
              "outlinewidth": 0,
              "ticks": ""
             }
            },
            "type": "parcoords"
           }
          ],
          "pie": [
           {
            "automargin": true,
            "type": "pie"
           }
          ],
          "scatter": [
           {
            "fillpattern": {
             "fillmode": "overlay",
             "size": 10,
             "solidity": 0.2
            },
            "type": "scatter"
           }
          ],
          "scatter3d": [
           {
            "line": {
             "colorbar": {
              "outlinewidth": 0,
              "ticks": ""
             }
            },
            "marker": {
             "colorbar": {
              "outlinewidth": 0,
              "ticks": ""
             }
            },
            "type": "scatter3d"
           }
          ],
          "scattercarpet": [
           {
            "marker": {
             "colorbar": {
              "outlinewidth": 0,
              "ticks": ""
             }
            },
            "type": "scattercarpet"
           }
          ],
          "scattergeo": [
           {
            "marker": {
             "colorbar": {
              "outlinewidth": 0,
              "ticks": ""
             }
            },
            "type": "scattergeo"
           }
          ],
          "scattergl": [
           {
            "marker": {
             "colorbar": {
              "outlinewidth": 0,
              "ticks": ""
             }
            },
            "type": "scattergl"
           }
          ],
          "scattermapbox": [
           {
            "marker": {
             "colorbar": {
              "outlinewidth": 0,
              "ticks": ""
             }
            },
            "type": "scattermapbox"
           }
          ],
          "scatterpolar": [
           {
            "marker": {
             "colorbar": {
              "outlinewidth": 0,
              "ticks": ""
             }
            },
            "type": "scatterpolar"
           }
          ],
          "scatterpolargl": [
           {
            "marker": {
             "colorbar": {
              "outlinewidth": 0,
              "ticks": ""
             }
            },
            "type": "scatterpolargl"
           }
          ],
          "scatterternary": [
           {
            "marker": {
             "colorbar": {
              "outlinewidth": 0,
              "ticks": ""
             }
            },
            "type": "scatterternary"
           }
          ],
          "surface": [
           {
            "colorbar": {
             "outlinewidth": 0,
             "ticks": ""
            },
            "colorscale": [
             [
              0,
              "#0d0887"
             ],
             [
              0.1111111111111111,
              "#46039f"
             ],
             [
              0.2222222222222222,
              "#7201a8"
             ],
             [
              0.3333333333333333,
              "#9c179e"
             ],
             [
              0.4444444444444444,
              "#bd3786"
             ],
             [
              0.5555555555555556,
              "#d8576b"
             ],
             [
              0.6666666666666666,
              "#ed7953"
             ],
             [
              0.7777777777777778,
              "#fb9f3a"
             ],
             [
              0.8888888888888888,
              "#fdca26"
             ],
             [
              1,
              "#f0f921"
             ]
            ],
            "type": "surface"
           }
          ],
          "table": [
           {
            "cells": {
             "fill": {
              "color": "#EBF0F8"
             },
             "line": {
              "color": "white"
             }
            },
            "header": {
             "fill": {
              "color": "#C8D4E3"
             },
             "line": {
              "color": "white"
             }
            },
            "type": "table"
           }
          ]
         },
         "layout": {
          "annotationdefaults": {
           "arrowcolor": "#2a3f5f",
           "arrowhead": 0,
           "arrowwidth": 1
          },
          "autotypenumbers": "strict",
          "coloraxis": {
           "colorbar": {
            "outlinewidth": 0,
            "ticks": ""
           }
          },
          "colorscale": {
           "diverging": [
            [
             0,
             "#8e0152"
            ],
            [
             0.1,
             "#c51b7d"
            ],
            [
             0.2,
             "#de77ae"
            ],
            [
             0.3,
             "#f1b6da"
            ],
            [
             0.4,
             "#fde0ef"
            ],
            [
             0.5,
             "#f7f7f7"
            ],
            [
             0.6,
             "#e6f5d0"
            ],
            [
             0.7,
             "#b8e186"
            ],
            [
             0.8,
             "#7fbc41"
            ],
            [
             0.9,
             "#4d9221"
            ],
            [
             1,
             "#276419"
            ]
           ],
           "sequential": [
            [
             0,
             "#0d0887"
            ],
            [
             0.1111111111111111,
             "#46039f"
            ],
            [
             0.2222222222222222,
             "#7201a8"
            ],
            [
             0.3333333333333333,
             "#9c179e"
            ],
            [
             0.4444444444444444,
             "#bd3786"
            ],
            [
             0.5555555555555556,
             "#d8576b"
            ],
            [
             0.6666666666666666,
             "#ed7953"
            ],
            [
             0.7777777777777778,
             "#fb9f3a"
            ],
            [
             0.8888888888888888,
             "#fdca26"
            ],
            [
             1,
             "#f0f921"
            ]
           ],
           "sequentialminus": [
            [
             0,
             "#0d0887"
            ],
            [
             0.1111111111111111,
             "#46039f"
            ],
            [
             0.2222222222222222,
             "#7201a8"
            ],
            [
             0.3333333333333333,
             "#9c179e"
            ],
            [
             0.4444444444444444,
             "#bd3786"
            ],
            [
             0.5555555555555556,
             "#d8576b"
            ],
            [
             0.6666666666666666,
             "#ed7953"
            ],
            [
             0.7777777777777778,
             "#fb9f3a"
            ],
            [
             0.8888888888888888,
             "#fdca26"
            ],
            [
             1,
             "#f0f921"
            ]
           ]
          },
          "colorway": [
           "#636efa",
           "#EF553B",
           "#00cc96",
           "#ab63fa",
           "#FFA15A",
           "#19d3f3",
           "#FF6692",
           "#B6E880",
           "#FF97FF",
           "#FECB52"
          ],
          "font": {
           "color": "#2a3f5f"
          },
          "geo": {
           "bgcolor": "white",
           "lakecolor": "white",
           "landcolor": "#E5ECF6",
           "showlakes": true,
           "showland": true,
           "subunitcolor": "white"
          },
          "hoverlabel": {
           "align": "left"
          },
          "hovermode": "closest",
          "mapbox": {
           "style": "light"
          },
          "paper_bgcolor": "white",
          "plot_bgcolor": "#E5ECF6",
          "polar": {
           "angularaxis": {
            "gridcolor": "white",
            "linecolor": "white",
            "ticks": ""
           },
           "bgcolor": "#E5ECF6",
           "radialaxis": {
            "gridcolor": "white",
            "linecolor": "white",
            "ticks": ""
           }
          },
          "scene": {
           "xaxis": {
            "backgroundcolor": "#E5ECF6",
            "gridcolor": "white",
            "gridwidth": 2,
            "linecolor": "white",
            "showbackground": true,
            "ticks": "",
            "zerolinecolor": "white"
           },
           "yaxis": {
            "backgroundcolor": "#E5ECF6",
            "gridcolor": "white",
            "gridwidth": 2,
            "linecolor": "white",
            "showbackground": true,
            "ticks": "",
            "zerolinecolor": "white"
           },
           "zaxis": {
            "backgroundcolor": "#E5ECF6",
            "gridcolor": "white",
            "gridwidth": 2,
            "linecolor": "white",
            "showbackground": true,
            "ticks": "",
            "zerolinecolor": "white"
           }
          },
          "shapedefaults": {
           "line": {
            "color": "#2a3f5f"
           }
          },
          "ternary": {
           "aaxis": {
            "gridcolor": "white",
            "linecolor": "white",
            "ticks": ""
           },
           "baxis": {
            "gridcolor": "white",
            "linecolor": "white",
            "ticks": ""
           },
           "bgcolor": "#E5ECF6",
           "caxis": {
            "gridcolor": "white",
            "linecolor": "white",
            "ticks": ""
           }
          },
          "title": {
           "x": 0.05
          },
          "xaxis": {
           "automargin": true,
           "gridcolor": "white",
           "linecolor": "white",
           "ticks": "",
           "title": {
            "standoff": 15
           },
           "zerolinecolor": "white",
           "zerolinewidth": 2
          },
          "yaxis": {
           "automargin": true,
           "gridcolor": "white",
           "linecolor": "white",
           "ticks": "",
           "title": {
            "standoff": 15
           },
           "zerolinecolor": "white",
           "zerolinewidth": 2
          }
         }
        },
        "title": {
         "text": "<span style=\"color:green;\">Die Grünen</span> und <span style=\"color:blue;\">AfD</span> seit 2014"
        },
        "xaxis": {
         "anchor": "y",
         "domain": [
          0,
          1
         ],
         "dtick": 5,
         "tick0": 2014,
         "title": {
          "text": "Jahr"
         }
        },
        "yaxis": {
         "anchor": "x",
         "domain": [
          0,
          1
         ],
         "title": {
          "text": "Anteil der Stimmen"
         }
        }
       }
      }
     },
     "metadata": {},
     "output_type": "display_data"
    }
   ],
   "source": [
    "# Filter the DataFrame for 'Die Grünen' and 'AfD' since 2014\n",
    "filtered_df = df_long[(df_long['Partei'].isin(['Die Grünen', 'AfD'])) & (df_long['Jahr'] >= 2009)]\n",
    "\n",
    "# Create a line plot to show the evolution of seats\n",
    "fig = px.line(filtered_df, x='Jahr', y='Anteil der Stimmen', color='Partei', title='<span style=\"color:green;\">Die Grünen</span> und <span style=\"color:blue;\">AfD</span> seit 2014', markers=True, color_discrete_map=partei_farben)\n",
    "\n",
    "# Customize the layout\n",
    "fig.update_layout(\n",
    "    xaxis_title='Jahr',\n",
    "    yaxis_title='Anteil der Stimmen', \n",
    "    legend_title='Partei',\n",
    "    xaxis=dict( \n",
    "        dtick=5,\n",
    "        tick0=2014\n",
    "    ),\n",
    "    showlegend=False  # Legende entfernen\n",
    ")\n",
    "\n",
    "# Show the plot\n",
    "fig.show()"
   ]
  }
 ],
 "metadata": {
  "kernelspec": {
   "display_name": "Python 3",
   "language": "python",
   "name": "python3"
  },
  "language_info": {
   "codemirror_mode": {
    "name": "ipython",
    "version": 3
   },
   "file_extension": ".py",
   "mimetype": "text/x-python",
   "name": "python",
   "nbconvert_exporter": "python",
   "pygments_lexer": "ipython3",
   "version": "3.12.2"
  }
 },
 "nbformat": 4,
 "nbformat_minor": 2
}
