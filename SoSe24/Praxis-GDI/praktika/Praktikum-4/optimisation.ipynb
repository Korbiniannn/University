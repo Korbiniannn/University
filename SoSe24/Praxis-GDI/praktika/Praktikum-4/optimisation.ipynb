{
 "cells": [
  {
   "cell_type": "code",
   "execution_count": 53,
   "metadata": {},
   "outputs": [
    {
     "name": "stdout",
     "output_type": "stream",
     "text": [
      "[17.105827080577658, 2.8010368275992112, 3.0439384955479905, 13.744289039425421, 7.411133541910631, 11.505068649932731, 3.9755925855138807, 5.00925212170537, 1.3789862255102296, 1.1252409393972742, 1.8574009682345325, 2.608868596028335, 6.071799417400377, 0.12221309745247035, 2.0468852984049004, 1.0151211712391666, 13.1798887852325, 4.688674220149625, 6.6781435892673775, 1.0286283893461463, 1.0855024775392965, 17.621408793999148, 8.557062028771375, 8.625560087768994, 5.042013674566223, 9.124029771990417, 11.316800370470446, 0.7517873025622422, 7.611791942434396, 15.453822945729156, 11.828789835645503, 8.804243755400664, 2.3464402094609977, 12.336790125857563, 1.852112429230089, 12.255432856035895, 9.136499307982335, 2.0061506083847838, 8.268633811718802, 2.2442131309043303, 2.710317203521687, 8.973815900721174, 8.4107195764865, 7.537696812278544, 4.237431868440621, 4.775217582400702, 7.375552682412871, 1.144424042694573, 10.133487682764857, 2.6926492318729465, 2.5817243961654035, 3.9961938241091244, 8.53281064737848, 6.102982767421596, 1.629562819603253, 6.754904867117734, 1.1685790240940546, 1.9208923722686166, 8.461684341570132, 0.7006274525520243, 11.377789622742258, 1.7223674711751547, 5.589318759530352, 1.5768826881817501, 6.393291280016103, 3.368599478768132, 0.4524315112451452, 0.5497024149758941, 9.397123725602697, 9.421796622007356, 1.5009333244620282, 18.210391579143064, 9.788036794251497, 0.6567058407125265, 4.261411345278583, 5.37062569800482, 1.7870121588635293, 5.554024689020057, 4.29442962183247, 4.252206557178308, 14.17783671150715, 14.588850678435648, 6.047211733604231, 4.011001125969537, 2.1699226324387935, 7.54266669905911, 7.705802777642599, 3.9308397242921864, 14.341429434052575, 8.6805295812542, 10.3084383019998, 15.886468539533052, 11.86509056802232, 4.6577289740043755, 0.8304584455622837, 5.802561493077979, 4.2646466751919965, 7.143567353478066, 3.3390933726000886, 5.072873156786928]\n"
     ]
    }
   ],
   "source": [
    "import random\n",
    "import time\n",
    "import numpy as np\n",
    "\n",
    "def distance_point_to_line(p, p1, p2):\n",
    "    x0, y0 = p\n",
    "    x1, y1 = p1\n",
    "    x2, y2 = p2\n",
    "    \n",
    "    numerator = abs((y2 - y1) * x0 - (x2 - x1) * y0 + x2 * y1 - y2 * x1)\n",
    "    denominator = np.sqrt((y2 - y1)**2 + (x2 - x1)**2)\n",
    "    \n",
    "    return numerator / denominator\n",
    "\n",
    "# Beispielhafte Punkte\n",
    "N = 100\n",
    "p1 = [(random.uniform(-10, 10), random.uniform(-10, 10)) for _ in range(N)]\n",
    "p2 = [(random.uniform(-10, 10), random.uniform(-10, 10)) for _ in range(N)]\n",
    "p = (random.uniform(-10, 10), random.uniform(-10, 10))\n",
    "\n",
    "# Entfernung für alle Linien berechnen\n",
    "distances = [distance_point_to_line(p, p1[i], p2[i]) for i in range(N)]\n",
    "print(distances)"
   ]
  },
  {
   "cell_type": "code",
   "execution_count": 54,
   "metadata": {},
   "outputs": [],
   "source": [
    "def performance_time(N_values):\n",
    "    for N in N_values:\n",
    "        p1 = [(random.uniform(-10, 10), random.uniform(-10,10)) for _ in range(N)]\n",
    "        p2 = [(random.uniform(-10, 10), random.uniform(-10,10)) for _ in range(N)]\n",
    "        p = (random.uniform(-10, 10), random.uniform(-10,10))\n",
    "\n",
    "        start_time = time.time()\n",
    "        distances = [distance_point_to_line(p, p1[i], p2[i]) for i in range(N)]\n",
    "        end_time = time.time()\n",
    "\n",
    "        print(f\"Time taken for N={N}: {end_time - start_time} seconds\")"
   ]
  },
  {
   "cell_type": "code",
   "execution_count": 55,
   "metadata": {},
   "outputs": [
    {
     "name": "stdout",
     "output_type": "stream",
     "text": [
      "Time taken for N=50: 7.200241088867188e-05 seconds\n",
      "Time taken for N=100: 0.0001010894775390625 seconds\n",
      "Time taken for N=1000: 0.027611970901489258 seconds\n"
     ]
    }
   ],
   "source": [
    "performance_time([50, 100, 1000]) "
   ]
  },
  {
   "cell_type": "code",
   "execution_count": 56,
   "metadata": {},
   "outputs": [],
   "source": [
    "def factorial(n):\n",
    "    \"\"\"Return the factorial of n.\"\"\"\n",
    "    if n < 0:\n",
    "        raise ValueError(\"n must be a non-negative integer\")\n",
    "    elif n == 0:\n",
    "        return 1\n",
    "    else:\n",
    "        return n * factorial(n-1)"
   ]
  },
  {
   "cell_type": "code",
   "execution_count": 57,
   "metadata": {},
   "outputs": [],
   "source": [
    "from functools import lru_cache\n",
    "\n",
    "\n",
    "@lru_cache(maxsize=None)\n",
    "def factorial2(n):\n",
    "    \"\"\"Return the factorial of n.\"\"\"\n",
    "    if n < 0:\n",
    "        raise ValueError(\"n must be a non-negative integer\")\n",
    "    elif n == 0:\n",
    "        return 1\n",
    "    else:\n",
    "        return n * factorial(n-1)"
   ]
  },
  {
   "cell_type": "code",
   "execution_count": 60,
   "metadata": {},
   "outputs": [
    {
     "name": "stdout",
     "output_type": "stream",
     "text": [
      "Time without caching: 0.0005788803100585938\n",
      "Time with caching: 0.0002307891845703125\n"
     ]
    }
   ],
   "source": [
    "start_time = time.time()\n",
    "factorial(20)\n",
    "end_time = time.time()\n",
    "print(\"Time without caching:\", end_time - start_time)\n",
    "\n",
    "start_time_c = time.time()\n",
    "factorial2(20)\n",
    "end_time_c = time.time()\n",
    "print(\"Time with caching:\", end_time_c - start_time_c)\n"
   ]
  }
 ],
 "metadata": {
  "kernelspec": {
   "display_name": "dsci",
   "language": "python",
   "name": "python3"
  },
  "language_info": {
   "codemirror_mode": {
    "name": "ipython",
    "version": 3
   },
   "file_extension": ".py",
   "mimetype": "text/x-python",
   "name": "python",
   "nbconvert_exporter": "python",
   "pygments_lexer": "ipython3",
   "version": "3.12.2"
  }
 },
 "nbformat": 4,
 "nbformat_minor": 2
}
